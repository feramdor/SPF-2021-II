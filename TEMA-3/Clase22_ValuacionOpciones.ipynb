{
 "cells": [
  {
   "cell_type": "markdown",
   "metadata": {},
   "source": [
    "<img style=\"float: right; margin: 0px 0px 15px 15px;\" src=\"https://encrypted-tbn0.gstatic.com/images?q=tbn:ANd9GcSQt6eQo8JPYzYO4p6WmxLtccdtJ4X8WR6GzVVKbsMjyGvUDEn1mg\" width=\"300px\" height=\"100px\" />\n",
    "\n",
    "# Trabajando con opciones"
   ]
  },
  {
   "cell_type": "markdown",
   "metadata": {},
   "source": [
    "Una opción puede negociarse en el mercado secundario por lo que es importante determinar su valor $V_t$ para cada tiempo $t\\in [0, T]$. La ganancia que obtiene quién adquiere la opción se llama función de pago o \"payoff\" y claramente depende del valor del subyacente. \n",
    "\n",
    "Hay una gran variedad de opciones en el mercado y éstas se clasiflcan según su función de pago y la forma en que pueden ejercerse.  Las opciones que tienen como función de pago a\n",
    "$$ P(S(t),t)=max\\{S(T)-K,0\\} \\rightarrow \\text{En el caso de Call}$$ \n",
    "$$ P(S(t),t)=max\\{K-S(T),0\\} \\rightarrow \\text{En el caso de Put}$$ \n",
    "se llaman opciones **Vainilla**, con $h:[0,\\infty) \\to [0,\\infty)$.\n",
    "\n",
    "La opción se llama **europea** si puede ejercerse sólo en la fecha de vencimiento.\n",
    "\n",
    "Se dice que una opción es **americana** si puede ejercerse en cualquier momento antes o en la fecha de vencimiento.\n",
    "\n",
    "Una opción compleja popular son las llamadas **opciones asiáticas** cuyos pagos dependen de todas las trayectorias del precio de los activos subyacentes. Las opciones cuyos pagos dependen de las trayectorias de los precios de los activos subyacentes se denominan opciones dependientes de la ruta.\n",
    "\n",
    "Principalmente, se puede resumir que las dos razones con más peso de importancia para utilizar opciones son el **aseguramiento** y la **especulación**.\n",
    "\n",
    "## Opciones Plan Vainilla: opción de compra y opción de venta europea\n",
    "\n",
    "Una opción vainilla o estándar es una opción normal de compra o venta que no tiene características especiales o inusuales. Puede ser para tamaños y vencimientos estandarizados, y negociarse en un intercambio.\n",
    "En comparación con otras estructuras de opciones, las opciones de vanilla no son sofisticadas o complicadas.\n"
   ]
  },
  {
   "cell_type": "markdown",
   "metadata": {},
   "source": [
    "## 1. ¿Cómo descargar datos de opciones?"
   ]
  },
  {
   "cell_type": "code",
   "execution_count": 2,
   "metadata": {},
   "outputs": [],
   "source": [
    "#importar los paquetes que se van a usar\n",
    "import pandas as pd\n",
    "import pandas_datareader.data as web\n",
    "import numpy as np\n",
    "import datetime\n",
    "import matplotlib.pyplot as plt\n",
    "import scipy.stats as st\n",
    "import seaborn as sns\n",
    "%matplotlib inline\n",
    "#algunas opciones para Pandas\n",
    "pd.set_option('display.notebook_repr_html', True)\n",
    "pd.set_option('display.max_columns', 6)\n",
    "pd.set_option('display.max_rows', 10)\n",
    "pd.set_option('display.width', 78)\n",
    "pd.set_option('precision', 3)"
   ]
  },
  {
   "cell_type": "code",
   "execution_count": 10,
   "metadata": {
    "scrolled": true
   },
   "outputs": [
    {
     "ename": "JSONDecodeError",
     "evalue": "Expecting value: line 1 column 1 (char 0)",
     "output_type": "error",
     "traceback": [
      "\u001b[0;31m---------------------------------------------------------------------------\u001b[0m",
      "\u001b[0;31mJSONDecodeError\u001b[0m                           Traceback (most recent call last)",
      "\u001b[0;32m<ipython-input-10-66cf41655fb0>\u001b[0m in \u001b[0;36m<module>\u001b[0;34m\u001b[0m\n\u001b[1;32m     11\u001b[0m     \u001b[0;32mreturn\u001b[0m \u001b[0mcalls\u001b[0m\u001b[0;34m,\u001b[0m \u001b[0mputs\u001b[0m\u001b[0;34m\u001b[0m\u001b[0;34m\u001b[0m\u001b[0m\n\u001b[1;32m     12\u001b[0m \u001b[0;34m\u001b[0m\u001b[0m\n\u001b[0;32m---> 13\u001b[0;31m \u001b[0mc\u001b[0m\u001b[0;34m,\u001b[0m \u001b[0mp\u001b[0m \u001b[0;34m=\u001b[0m \u001b[0moptions_yf\u001b[0m\u001b[0;34m(\u001b[0m\u001b[0;34m\"APPL\"\u001b[0m\u001b[0;34m)\u001b[0m\u001b[0;34m\u001b[0m\u001b[0;34m\u001b[0m\u001b[0m\n\u001b[0m",
      "\u001b[0;32m<ipython-input-10-66cf41655fb0>\u001b[0m in \u001b[0;36moptions_yf\u001b[0;34m(ticker)\u001b[0m\n\u001b[1;32m      8\u001b[0m     \"\"\"\n\u001b[1;32m      9\u001b[0m     \u001b[0mstock\u001b[0m \u001b[0;34m=\u001b[0m \u001b[0myf\u001b[0m\u001b[0;34m.\u001b[0m\u001b[0mTicker\u001b[0m\u001b[0;34m(\u001b[0m\u001b[0mticker\u001b[0m\u001b[0;34m)\u001b[0m\u001b[0;34m\u001b[0m\u001b[0;34m\u001b[0m\u001b[0m\n\u001b[0;32m---> 10\u001b[0;31m     \u001b[0mcalls\u001b[0m\u001b[0;34m,\u001b[0m \u001b[0mputs\u001b[0m \u001b[0;34m=\u001b[0m \u001b[0mstock\u001b[0m\u001b[0;34m.\u001b[0m\u001b[0moption_chain\u001b[0m\u001b[0;34m(\u001b[0m\u001b[0mstock\u001b[0m\u001b[0;34m.\u001b[0m\u001b[0moptions\u001b[0m\u001b[0;34m[\u001b[0m\u001b[0;36m0\u001b[0m\u001b[0;34m]\u001b[0m\u001b[0;34m)\u001b[0m\u001b[0;34m\u001b[0m\u001b[0;34m\u001b[0m\u001b[0m\n\u001b[0m\u001b[1;32m     11\u001b[0m     \u001b[0;32mreturn\u001b[0m \u001b[0mcalls\u001b[0m\u001b[0;34m,\u001b[0m \u001b[0mputs\u001b[0m\u001b[0;34m\u001b[0m\u001b[0;34m\u001b[0m\u001b[0m\n\u001b[1;32m     12\u001b[0m \u001b[0;34m\u001b[0m\u001b[0m\n",
      "\u001b[0;32m~/opt/anaconda3/lib/python3.8/site-packages/yfinance/ticker.py\u001b[0m in \u001b[0;36moptions\u001b[0;34m(self)\u001b[0m\n\u001b[1;32m    193\u001b[0m     \u001b[0;32mdef\u001b[0m \u001b[0moptions\u001b[0m\u001b[0;34m(\u001b[0m\u001b[0mself\u001b[0m\u001b[0;34m)\u001b[0m\u001b[0;34m:\u001b[0m\u001b[0;34m\u001b[0m\u001b[0;34m\u001b[0m\u001b[0m\n\u001b[1;32m    194\u001b[0m         \u001b[0;32mif\u001b[0m \u001b[0;32mnot\u001b[0m \u001b[0mself\u001b[0m\u001b[0;34m.\u001b[0m\u001b[0m_expirations\u001b[0m\u001b[0;34m:\u001b[0m\u001b[0;34m\u001b[0m\u001b[0;34m\u001b[0m\u001b[0m\n\u001b[0;32m--> 195\u001b[0;31m             \u001b[0mself\u001b[0m\u001b[0;34m.\u001b[0m\u001b[0m_download_options\u001b[0m\u001b[0;34m(\u001b[0m\u001b[0;34m)\u001b[0m\u001b[0;34m\u001b[0m\u001b[0;34m\u001b[0m\u001b[0m\n\u001b[0m\u001b[1;32m    196\u001b[0m         \u001b[0;32mreturn\u001b[0m \u001b[0mtuple\u001b[0m\u001b[0;34m(\u001b[0m\u001b[0mself\u001b[0m\u001b[0;34m.\u001b[0m\u001b[0m_expirations\u001b[0m\u001b[0;34m.\u001b[0m\u001b[0mkeys\u001b[0m\u001b[0;34m(\u001b[0m\u001b[0;34m)\u001b[0m\u001b[0;34m)\u001b[0m\u001b[0;34m\u001b[0m\u001b[0;34m\u001b[0m\u001b[0m\n",
      "\u001b[0;32m~/opt/anaconda3/lib/python3.8/site-packages/yfinance/ticker.py\u001b[0m in \u001b[0;36m_download_options\u001b[0;34m(self, date, proxy)\u001b[0m\n\u001b[1;32m     54\u001b[0m             \u001b[0mproxy\u001b[0m \u001b[0;34m=\u001b[0m \u001b[0;34m{\u001b[0m\u001b[0;34m\"https\"\u001b[0m\u001b[0;34m:\u001b[0m \u001b[0mproxy\u001b[0m\u001b[0;34m}\u001b[0m\u001b[0;34m\u001b[0m\u001b[0;34m\u001b[0m\u001b[0m\n\u001b[1;32m     55\u001b[0m \u001b[0;34m\u001b[0m\u001b[0m\n\u001b[0;32m---> 56\u001b[0;31m         \u001b[0mr\u001b[0m \u001b[0;34m=\u001b[0m \u001b[0m_requests\u001b[0m\u001b[0;34m.\u001b[0m\u001b[0mget\u001b[0m\u001b[0;34m(\u001b[0m\u001b[0murl\u001b[0m\u001b[0;34m=\u001b[0m\u001b[0murl\u001b[0m\u001b[0;34m,\u001b[0m \u001b[0mproxies\u001b[0m\u001b[0;34m=\u001b[0m\u001b[0mproxy\u001b[0m\u001b[0;34m)\u001b[0m\u001b[0;34m.\u001b[0m\u001b[0mjson\u001b[0m\u001b[0;34m(\u001b[0m\u001b[0;34m)\u001b[0m\u001b[0;34m\u001b[0m\u001b[0;34m\u001b[0m\u001b[0m\n\u001b[0m\u001b[1;32m     57\u001b[0m         \u001b[0;32mif\u001b[0m \u001b[0mlen\u001b[0m\u001b[0;34m(\u001b[0m\u001b[0mr\u001b[0m\u001b[0;34m.\u001b[0m\u001b[0mget\u001b[0m\u001b[0;34m(\u001b[0m\u001b[0;34m'optionChain'\u001b[0m\u001b[0;34m,\u001b[0m \u001b[0;34m{\u001b[0m\u001b[0;34m}\u001b[0m\u001b[0;34m)\u001b[0m\u001b[0;34m.\u001b[0m\u001b[0mget\u001b[0m\u001b[0;34m(\u001b[0m\u001b[0;34m'result'\u001b[0m\u001b[0;34m,\u001b[0m \u001b[0;34m[\u001b[0m\u001b[0;34m]\u001b[0m\u001b[0;34m)\u001b[0m\u001b[0;34m)\u001b[0m \u001b[0;34m>\u001b[0m \u001b[0;36m0\u001b[0m\u001b[0;34m:\u001b[0m\u001b[0;34m\u001b[0m\u001b[0;34m\u001b[0m\u001b[0m\n\u001b[1;32m     58\u001b[0m             \u001b[0;32mfor\u001b[0m \u001b[0mexp\u001b[0m \u001b[0;32min\u001b[0m \u001b[0mr\u001b[0m\u001b[0;34m[\u001b[0m\u001b[0;34m'optionChain'\u001b[0m\u001b[0;34m]\u001b[0m\u001b[0;34m[\u001b[0m\u001b[0;34m'result'\u001b[0m\u001b[0;34m]\u001b[0m\u001b[0;34m[\u001b[0m\u001b[0;36m0\u001b[0m\u001b[0;34m]\u001b[0m\u001b[0;34m[\u001b[0m\u001b[0;34m'expirationDates'\u001b[0m\u001b[0;34m]\u001b[0m\u001b[0;34m:\u001b[0m\u001b[0;34m\u001b[0m\u001b[0;34m\u001b[0m\u001b[0m\n",
      "\u001b[0;32m~/opt/anaconda3/lib/python3.8/site-packages/requests/models.py\u001b[0m in \u001b[0;36mjson\u001b[0;34m(self, **kwargs)\u001b[0m\n\u001b[1;32m    898\u001b[0m                     \u001b[0;31m# used.\u001b[0m\u001b[0;34m\u001b[0m\u001b[0;34m\u001b[0m\u001b[0;34m\u001b[0m\u001b[0m\n\u001b[1;32m    899\u001b[0m                     \u001b[0;32mpass\u001b[0m\u001b[0;34m\u001b[0m\u001b[0;34m\u001b[0m\u001b[0m\n\u001b[0;32m--> 900\u001b[0;31m         \u001b[0;32mreturn\u001b[0m \u001b[0mcomplexjson\u001b[0m\u001b[0;34m.\u001b[0m\u001b[0mloads\u001b[0m\u001b[0;34m(\u001b[0m\u001b[0mself\u001b[0m\u001b[0;34m.\u001b[0m\u001b[0mtext\u001b[0m\u001b[0;34m,\u001b[0m \u001b[0;34m**\u001b[0m\u001b[0mkwargs\u001b[0m\u001b[0;34m)\u001b[0m\u001b[0;34m\u001b[0m\u001b[0;34m\u001b[0m\u001b[0m\n\u001b[0m\u001b[1;32m    901\u001b[0m \u001b[0;34m\u001b[0m\u001b[0m\n\u001b[1;32m    902\u001b[0m     \u001b[0;34m@\u001b[0m\u001b[0mproperty\u001b[0m\u001b[0;34m\u001b[0m\u001b[0;34m\u001b[0m\u001b[0m\n",
      "\u001b[0;32m~/opt/anaconda3/lib/python3.8/site-packages/simplejson/__init__.py\u001b[0m in \u001b[0;36mloads\u001b[0;34m(s, encoding, cls, object_hook, parse_float, parse_int, parse_constant, object_pairs_hook, use_decimal, **kw)\u001b[0m\n\u001b[1;32m    523\u001b[0m             \u001b[0mparse_constant\u001b[0m \u001b[0;32mis\u001b[0m \u001b[0;32mNone\u001b[0m \u001b[0;32mand\u001b[0m \u001b[0mobject_pairs_hook\u001b[0m \u001b[0;32mis\u001b[0m \u001b[0;32mNone\u001b[0m\u001b[0;34m\u001b[0m\u001b[0;34m\u001b[0m\u001b[0m\n\u001b[1;32m    524\u001b[0m             and not use_decimal and not kw):\n\u001b[0;32m--> 525\u001b[0;31m         \u001b[0;32mreturn\u001b[0m \u001b[0m_default_decoder\u001b[0m\u001b[0;34m.\u001b[0m\u001b[0mdecode\u001b[0m\u001b[0;34m(\u001b[0m\u001b[0ms\u001b[0m\u001b[0;34m)\u001b[0m\u001b[0;34m\u001b[0m\u001b[0;34m\u001b[0m\u001b[0m\n\u001b[0m\u001b[1;32m    526\u001b[0m     \u001b[0;32mif\u001b[0m \u001b[0mcls\u001b[0m \u001b[0;32mis\u001b[0m \u001b[0;32mNone\u001b[0m\u001b[0;34m:\u001b[0m\u001b[0;34m\u001b[0m\u001b[0;34m\u001b[0m\u001b[0m\n\u001b[1;32m    527\u001b[0m         \u001b[0mcls\u001b[0m \u001b[0;34m=\u001b[0m \u001b[0mJSONDecoder\u001b[0m\u001b[0;34m\u001b[0m\u001b[0;34m\u001b[0m\u001b[0m\n",
      "\u001b[0;32m~/opt/anaconda3/lib/python3.8/site-packages/simplejson/decoder.py\u001b[0m in \u001b[0;36mdecode\u001b[0;34m(self, s, _w, _PY3)\u001b[0m\n\u001b[1;32m    368\u001b[0m         \u001b[0;32mif\u001b[0m \u001b[0m_PY3\u001b[0m \u001b[0;32mand\u001b[0m \u001b[0misinstance\u001b[0m\u001b[0;34m(\u001b[0m\u001b[0ms\u001b[0m\u001b[0;34m,\u001b[0m \u001b[0mbytes\u001b[0m\u001b[0;34m)\u001b[0m\u001b[0;34m:\u001b[0m\u001b[0;34m\u001b[0m\u001b[0;34m\u001b[0m\u001b[0m\n\u001b[1;32m    369\u001b[0m             \u001b[0ms\u001b[0m \u001b[0;34m=\u001b[0m \u001b[0mstr\u001b[0m\u001b[0;34m(\u001b[0m\u001b[0ms\u001b[0m\u001b[0;34m,\u001b[0m \u001b[0mself\u001b[0m\u001b[0;34m.\u001b[0m\u001b[0mencoding\u001b[0m\u001b[0;34m)\u001b[0m\u001b[0;34m\u001b[0m\u001b[0;34m\u001b[0m\u001b[0m\n\u001b[0;32m--> 370\u001b[0;31m         \u001b[0mobj\u001b[0m\u001b[0;34m,\u001b[0m \u001b[0mend\u001b[0m \u001b[0;34m=\u001b[0m \u001b[0mself\u001b[0m\u001b[0;34m.\u001b[0m\u001b[0mraw_decode\u001b[0m\u001b[0;34m(\u001b[0m\u001b[0ms\u001b[0m\u001b[0;34m)\u001b[0m\u001b[0;34m\u001b[0m\u001b[0;34m\u001b[0m\u001b[0m\n\u001b[0m\u001b[1;32m    371\u001b[0m         \u001b[0mend\u001b[0m \u001b[0;34m=\u001b[0m \u001b[0m_w\u001b[0m\u001b[0;34m(\u001b[0m\u001b[0ms\u001b[0m\u001b[0;34m,\u001b[0m \u001b[0mend\u001b[0m\u001b[0;34m)\u001b[0m\u001b[0;34m.\u001b[0m\u001b[0mend\u001b[0m\u001b[0;34m(\u001b[0m\u001b[0;34m)\u001b[0m\u001b[0;34m\u001b[0m\u001b[0;34m\u001b[0m\u001b[0m\n\u001b[1;32m    372\u001b[0m         \u001b[0;32mif\u001b[0m \u001b[0mend\u001b[0m \u001b[0;34m!=\u001b[0m \u001b[0mlen\u001b[0m\u001b[0;34m(\u001b[0m\u001b[0ms\u001b[0m\u001b[0;34m)\u001b[0m\u001b[0;34m:\u001b[0m\u001b[0;34m\u001b[0m\u001b[0;34m\u001b[0m\u001b[0m\n",
      "\u001b[0;32m~/opt/anaconda3/lib/python3.8/site-packages/simplejson/decoder.py\u001b[0m in \u001b[0;36mraw_decode\u001b[0;34m(self, s, idx, _w, _PY3)\u001b[0m\n\u001b[1;32m    398\u001b[0m             \u001b[0;32melif\u001b[0m \u001b[0mord0\u001b[0m \u001b[0;34m==\u001b[0m \u001b[0;36m0xef\u001b[0m \u001b[0;32mand\u001b[0m \u001b[0ms\u001b[0m\u001b[0;34m[\u001b[0m\u001b[0midx\u001b[0m\u001b[0;34m:\u001b[0m\u001b[0midx\u001b[0m \u001b[0;34m+\u001b[0m \u001b[0;36m3\u001b[0m\u001b[0;34m]\u001b[0m \u001b[0;34m==\u001b[0m \u001b[0;34m'\\xef\\xbb\\xbf'\u001b[0m\u001b[0;34m:\u001b[0m\u001b[0;34m\u001b[0m\u001b[0;34m\u001b[0m\u001b[0m\n\u001b[1;32m    399\u001b[0m                 \u001b[0midx\u001b[0m \u001b[0;34m+=\u001b[0m \u001b[0;36m3\u001b[0m\u001b[0;34m\u001b[0m\u001b[0;34m\u001b[0m\u001b[0m\n\u001b[0;32m--> 400\u001b[0;31m         \u001b[0;32mreturn\u001b[0m \u001b[0mself\u001b[0m\u001b[0;34m.\u001b[0m\u001b[0mscan_once\u001b[0m\u001b[0;34m(\u001b[0m\u001b[0ms\u001b[0m\u001b[0;34m,\u001b[0m \u001b[0midx\u001b[0m\u001b[0;34m=\u001b[0m\u001b[0m_w\u001b[0m\u001b[0;34m(\u001b[0m\u001b[0ms\u001b[0m\u001b[0;34m,\u001b[0m \u001b[0midx\u001b[0m\u001b[0;34m)\u001b[0m\u001b[0;34m.\u001b[0m\u001b[0mend\u001b[0m\u001b[0;34m(\u001b[0m\u001b[0;34m)\u001b[0m\u001b[0;34m)\u001b[0m\u001b[0;34m\u001b[0m\u001b[0;34m\u001b[0m\u001b[0m\n\u001b[0m",
      "\u001b[0;31mJSONDecodeError\u001b[0m: Expecting value: line 1 column 1 (char 0)"
     ]
    }
   ],
   "source": [
    "import yfinance as yf\n",
    " \n",
    "def options_yf(ticker : \"Ticker en formato string\"):\n",
    "    \"\"\"\n",
    "    options_yf descarga información de opciones financieras con ayuda de yfinance\n",
    "\n",
    "    *ticker : es el símbolo de cotización de la acción\n",
    "    \"\"\"\n",
    "    stock = yf.Ticker(ticker)\n",
    "    calls, puts = stock.option_chain(stock.options[0]) \n",
    "    return calls, puts\n",
    " \n",
    "c, p = options_yf(\"APPL\")"
   ]
  },
  {
   "cell_type": "markdown",
   "metadata": {},
   "source": [
    "Usando el paquete `pandas_datareader` también podemos descargar datos de opciones. Por ejemplo, descarguemos los datos de las opciones cuyo activo subyacente son las acciones de Apple"
   ]
  },
  {
   "cell_type": "code",
   "execution_count": 2,
   "metadata": {
    "scrolled": false
   },
   "outputs": [
    {
     "data": {
      "text/html": [
       "<div>\n",
       "<style scoped>\n",
       "    .dataframe tbody tr th:only-of-type {\n",
       "        vertical-align: middle;\n",
       "    }\n",
       "\n",
       "    .dataframe tbody tr th {\n",
       "        vertical-align: top;\n",
       "    }\n",
       "\n",
       "    .dataframe thead th {\n",
       "        text-align: right;\n",
       "    }\n",
       "</style>\n",
       "<table border=\"1\" class=\"dataframe\">\n",
       "  <thead>\n",
       "    <tr style=\"text-align: right;\">\n",
       "      <th></th>\n",
       "      <th>Strike</th>\n",
       "      <th>Type</th>\n",
       "      <th>Symbol</th>\n",
       "      <th>...</th>\n",
       "      <th>Quote_Time</th>\n",
       "      <th>Last_Trade_Date</th>\n",
       "      <th>JSON</th>\n",
       "    </tr>\n",
       "    <tr>\n",
       "      <th>Expiry</th>\n",
       "      <th></th>\n",
       "      <th></th>\n",
       "      <th></th>\n",
       "      <th></th>\n",
       "      <th></th>\n",
       "      <th></th>\n",
       "      <th></th>\n",
       "    </tr>\n",
       "  </thead>\n",
       "  <tbody>\n",
       "    <tr>\n",
       "      <th>2021-06-18</th>\n",
       "      <td>18.75</td>\n",
       "      <td>call</td>\n",
       "      <td>AAPL210618C00018750</td>\n",
       "      <td>...</td>\n",
       "      <td>2021-04-19 14:30:42</td>\n",
       "      <td>2021-04-13 18:24:30</td>\n",
       "      <td>{'contractSymbol': 'AAPL210618C00018750', 'str...</td>\n",
       "    </tr>\n",
       "    <tr>\n",
       "      <th>2021-06-18</th>\n",
       "      <td>18.75</td>\n",
       "      <td>put</td>\n",
       "      <td>AAPL210618P00018750</td>\n",
       "      <td>...</td>\n",
       "      <td>2021-04-19 14:30:42</td>\n",
       "      <td>2021-04-15 13:38:28</td>\n",
       "      <td>{'contractSymbol': 'AAPL210618P00018750', 'str...</td>\n",
       "    </tr>\n",
       "    <tr>\n",
       "      <th>2021-06-18</th>\n",
       "      <td>20.00</td>\n",
       "      <td>call</td>\n",
       "      <td>AAPL210618C00020000</td>\n",
       "      <td>...</td>\n",
       "      <td>2021-04-19 14:30:42</td>\n",
       "      <td>2021-04-14 15:36:52</td>\n",
       "      <td>{'contractSymbol': 'AAPL210618C00020000', 'str...</td>\n",
       "    </tr>\n",
       "    <tr>\n",
       "      <th>2021-06-18</th>\n",
       "      <td>20.00</td>\n",
       "      <td>put</td>\n",
       "      <td>AAPL210618P00020000</td>\n",
       "      <td>...</td>\n",
       "      <td>2021-04-19 14:30:42</td>\n",
       "      <td>2021-03-22 19:57:37</td>\n",
       "      <td>{'contractSymbol': 'AAPL210618P00020000', 'str...</td>\n",
       "    </tr>\n",
       "    <tr>\n",
       "      <th>2021-06-18</th>\n",
       "      <td>21.25</td>\n",
       "      <td>call</td>\n",
       "      <td>AAPL210618C00021250</td>\n",
       "      <td>...</td>\n",
       "      <td>2021-04-19 14:30:42</td>\n",
       "      <td>2021-02-04 18:50:12</td>\n",
       "      <td>{'contractSymbol': 'AAPL210618C00021250', 'str...</td>\n",
       "    </tr>\n",
       "    <tr>\n",
       "      <th>...</th>\n",
       "      <td>...</td>\n",
       "      <td>...</td>\n",
       "      <td>...</td>\n",
       "      <td>...</td>\n",
       "      <td>...</td>\n",
       "      <td>...</td>\n",
       "      <td>...</td>\n",
       "    </tr>\n",
       "    <tr>\n",
       "      <th>2021-09-17</th>\n",
       "      <td>1000.00</td>\n",
       "      <td>call</td>\n",
       "      <td>AAPL210917C01000000</td>\n",
       "      <td>...</td>\n",
       "      <td>2021-04-19 14:30:42</td>\n",
       "      <td>2020-08-28 19:58:31</td>\n",
       "      <td>{'contractSymbol': 'AAPL210917C01000000', 'str...</td>\n",
       "    </tr>\n",
       "    <tr>\n",
       "      <th>2022-01-21</th>\n",
       "      <td>1000.00</td>\n",
       "      <td>call</td>\n",
       "      <td>AAPL220121C01000000</td>\n",
       "      <td>...</td>\n",
       "      <td>2021-04-19 14:30:42</td>\n",
       "      <td>2020-08-28 19:59:43</td>\n",
       "      <td>{'contractSymbol': 'AAPL220121C01000000', 'str...</td>\n",
       "    </tr>\n",
       "    <tr>\n",
       "      <th>2022-06-17</th>\n",
       "      <td>1000.00</td>\n",
       "      <td>call</td>\n",
       "      <td>AAPL220617C01000000</td>\n",
       "      <td>...</td>\n",
       "      <td>2021-04-19 14:30:43</td>\n",
       "      <td>2020-08-28 19:48:09</td>\n",
       "      <td>{'contractSymbol': 'AAPL220617C01000000', 'str...</td>\n",
       "    </tr>\n",
       "    <tr>\n",
       "      <th>2022-09-16</th>\n",
       "      <td>1000.00</td>\n",
       "      <td>call</td>\n",
       "      <td>AAPL220916C01000000</td>\n",
       "      <td>...</td>\n",
       "      <td>2021-04-19 14:30:44</td>\n",
       "      <td>2020-08-28 19:59:03</td>\n",
       "      <td>{'contractSymbol': 'AAPL220916C01000000', 'str...</td>\n",
       "    </tr>\n",
       "    <tr>\n",
       "      <th>2022-09-16</th>\n",
       "      <td>1000.00</td>\n",
       "      <td>put</td>\n",
       "      <td>AAPL220916P01000000</td>\n",
       "      <td>...</td>\n",
       "      <td>2021-04-19 14:30:44</td>\n",
       "      <td>2020-08-28 17:27:35</td>\n",
       "      <td>{'contractSymbol': 'AAPL220916P01000000', 'str...</td>\n",
       "    </tr>\n",
       "  </tbody>\n",
       "</table>\n",
       "<p>2250 rows × 18 columns</p>\n",
       "</div>"
      ],
      "text/plain": [
       "             Strike  Type               Symbol  ...          Quote_Time  \\\n",
       "Expiry                                          ...                       \n",
       "2021-06-18    18.75  call  AAPL210618C00018750  ... 2021-04-19 14:30:42   \n",
       "2021-06-18    18.75   put  AAPL210618P00018750  ... 2021-04-19 14:30:42   \n",
       "2021-06-18    20.00  call  AAPL210618C00020000  ... 2021-04-19 14:30:42   \n",
       "2021-06-18    20.00   put  AAPL210618P00020000  ... 2021-04-19 14:30:42   \n",
       "2021-06-18    21.25  call  AAPL210618C00021250  ... 2021-04-19 14:30:42   \n",
       "...             ...   ...                  ...  ...                 ...   \n",
       "2021-09-17  1000.00  call  AAPL210917C01000000  ... 2021-04-19 14:30:42   \n",
       "2022-01-21  1000.00  call  AAPL220121C01000000  ... 2021-04-19 14:30:42   \n",
       "2022-06-17  1000.00  call  AAPL220617C01000000  ... 2021-04-19 14:30:43   \n",
       "2022-09-16  1000.00  call  AAPL220916C01000000  ... 2021-04-19 14:30:44   \n",
       "2022-09-16  1000.00   put  AAPL220916P01000000  ... 2021-04-19 14:30:44   \n",
       "\n",
       "               Last_Trade_Date  \\\n",
       "Expiry                           \n",
       "2021-06-18 2021-04-13 18:24:30   \n",
       "2021-06-18 2021-04-15 13:38:28   \n",
       "2021-06-18 2021-04-14 15:36:52   \n",
       "2021-06-18 2021-03-22 19:57:37   \n",
       "2021-06-18 2021-02-04 18:50:12   \n",
       "...                        ...   \n",
       "2021-09-17 2020-08-28 19:58:31   \n",
       "2022-01-21 2020-08-28 19:59:43   \n",
       "2022-06-17 2020-08-28 19:48:09   \n",
       "2022-09-16 2020-08-28 19:59:03   \n",
       "2022-09-16 2020-08-28 17:27:35   \n",
       "\n",
       "                                                         JSON  \n",
       "Expiry                                                         \n",
       "2021-06-18  {'contractSymbol': 'AAPL210618C00018750', 'str...  \n",
       "2021-06-18  {'contractSymbol': 'AAPL210618P00018750', 'str...  \n",
       "2021-06-18  {'contractSymbol': 'AAPL210618C00020000', 'str...  \n",
       "2021-06-18  {'contractSymbol': 'AAPL210618P00020000', 'str...  \n",
       "2021-06-18  {'contractSymbol': 'AAPL210618C00021250', 'str...  \n",
       "...                                                       ...  \n",
       "2021-09-17  {'contractSymbol': 'AAPL210917C01000000', 'str...  \n",
       "2022-01-21  {'contractSymbol': 'AAPL220121C01000000', 'str...  \n",
       "2022-06-17  {'contractSymbol': 'AAPL220617C01000000', 'str...  \n",
       "2022-09-16  {'contractSymbol': 'AAPL220916C01000000', 'str...  \n",
       "2022-09-16  {'contractSymbol': 'AAPL220916P01000000', 'str...  \n",
       "\n",
       "[2250 rows x 18 columns]"
      ]
     },
     "execution_count": 2,
     "metadata": {},
     "output_type": "execute_result"
    }
   ],
   "source": [
    "aapl = web.YahooOptions('AAPL')\n",
    "aapl_opt = aapl.get_all_data().reset_index()\n",
    "aapl_opt.set_index('Expiry')\n",
    "# aapl"
   ]
  },
  {
   "cell_type": "markdown",
   "metadata": {},
   "source": [
    "Precio del activo subyacente"
   ]
  },
  {
   "cell_type": "code",
   "execution_count": 3,
   "metadata": {
    "scrolled": true
   },
   "outputs": [
    {
     "data": {
      "text/plain": [
       "118.64"
      ]
     },
     "execution_count": 3,
     "metadata": {},
     "output_type": "execute_result"
    }
   ],
   "source": [
    "aapl_opt.Underlying_Price[0]"
   ]
  },
  {
   "cell_type": "markdown",
   "metadata": {},
   "source": [
    "Datos de la opción "
   ]
  },
  {
   "cell_type": "code",
   "execution_count": 21,
   "metadata": {
    "scrolled": true
   },
   "outputs": [
    {
     "data": {
      "text/plain": [
       "{'contractSymbol': 'AAPL210115C00018750',\n",
       " 'strike': 18.75,\n",
       " 'currency': 'USD',\n",
       " 'lastPrice': 101.65,\n",
       " 'change': 0.0,\n",
       " 'percentChange': 0.0,\n",
       " 'volume': 1,\n",
       " 'openInterest': 258,\n",
       " 'bid': 99.6,\n",
       " 'ask': 100.25,\n",
       " 'contractSize': 'REGULAR',\n",
       " 'expiration': 1610668800,\n",
       " 'lastTradeDate': 1605639375,\n",
       " 'impliedVolatility': 1.7265638671875,\n",
       " 'inTheMoney': True}"
      ]
     },
     "execution_count": 21,
     "metadata": {},
     "output_type": "execute_result"
    }
   ],
   "source": [
    "aapl_opt.loc[0, 'JSON']"
   ]
  },
  {
   "cell_type": "markdown",
   "metadata": {},
   "source": [
    "### Conceptos claves\n",
    "- El precio de la oferta ('bid') se refiere al precio más alto que un comprador pagará por un activo.\n",
    "- El precio de venta ('ask') se refiere al precio más bajo que un vendedor aceptará por un activo.\n",
    "- La diferencia entre estos dos precios se conoce como 'spread'; cuanto menor es el spread, mayor es la liquidez de la garantía dada.\n",
    "- Liquidez: facilidad de convertir cierta opción en efectivo.\n",
    "- La volatilidad implícita es el pronóstico del mercado de un probable movimiento en el precio de un valor.\n",
    "- La volatilidad implícita aumenta en los mercados bajistas y disminuye cuando el mercado es alcista.\n",
    "- El último precio ('lastprice') representa el precio al que ocurrió la última operación, de una opción dada."
   ]
  },
  {
   "cell_type": "markdown",
   "metadata": {},
   "source": [
    "Una vez tenemos la información, podemos consultar de qué tipo son las opciones"
   ]
  },
  {
   "cell_type": "code",
   "execution_count": 5,
   "metadata": {},
   "outputs": [
    {
     "data": {
      "text/plain": [
       "0       call\n",
       "1        put\n",
       "2       call\n",
       "3        put\n",
       "4       call\n",
       "        ... \n",
       "3353    call\n",
       "3354    call\n",
       "3355    call\n",
       "3356    call\n",
       "3357     put\n",
       "Name: Type, Length: 3358, dtype: object"
      ]
     },
     "execution_count": 5,
     "metadata": {},
     "output_type": "execute_result"
    }
   ],
   "source": [
    "aapl_opt.loc[:, 'Type']"
   ]
  },
  {
   "cell_type": "markdown",
   "metadata": {},
   "source": [
    "o en que fecha expiran"
   ]
  },
  {
   "cell_type": "code",
   "execution_count": 3,
   "metadata": {
    "scrolled": true
   },
   "outputs": [
    {
     "data": {
      "text/plain": [
       "0      2021-06-18\n",
       "1      2021-06-18\n",
       "2      2021-06-18\n",
       "3      2021-06-18\n",
       "4      2021-06-18\n",
       "          ...    \n",
       "2245   2021-09-17\n",
       "2246   2022-01-21\n",
       "2247   2022-06-17\n",
       "2248   2022-09-16\n",
       "2249   2022-09-16\n",
       "Name: Expiry, Length: 2250, dtype: datetime64[ns]"
      ]
     },
     "execution_count": 3,
     "metadata": {},
     "output_type": "execute_result"
    }
   ],
   "source": [
    "pd.set_option('display.max_rows', 10)\n",
    "aapl_opt.loc[:, 'Expiry']"
   ]
  },
  {
   "cell_type": "markdown",
   "metadata": {},
   "source": [
    "Por otra parte, podríamos querer consultar todas las opciones de compra (call) que expiran en cierta fecha (2020-06-19)"
   ]
  },
  {
   "cell_type": "code",
   "execution_count": 4,
   "metadata": {
    "scrolled": false
   },
   "outputs": [
    {
     "data": {
      "text/html": [
       "<div>\n",
       "<style scoped>\n",
       "    .dataframe tbody tr th:only-of-type {\n",
       "        vertical-align: middle;\n",
       "    }\n",
       "\n",
       "    .dataframe tbody tr th {\n",
       "        vertical-align: top;\n",
       "    }\n",
       "\n",
       "    .dataframe thead th {\n",
       "        text-align: right;\n",
       "    }\n",
       "</style>\n",
       "<table border=\"1\" class=\"dataframe\">\n",
       "  <thead>\n",
       "    <tr style=\"text-align: right;\">\n",
       "      <th></th>\n",
       "      <th>Strike</th>\n",
       "      <th>Expiry</th>\n",
       "      <th>Type</th>\n",
       "      <th>...</th>\n",
       "      <th>Quote_Time</th>\n",
       "      <th>Last_Trade_Date</th>\n",
       "      <th>JSON</th>\n",
       "    </tr>\n",
       "  </thead>\n",
       "  <tbody>\n",
       "    <tr>\n",
       "      <th>0</th>\n",
       "      <td>18.75</td>\n",
       "      <td>2021-06-18</td>\n",
       "      <td>call</td>\n",
       "      <td>...</td>\n",
       "      <td>2021-04-19 14:30:42</td>\n",
       "      <td>2021-04-13 18:24:30</td>\n",
       "      <td>{'contractSymbol': 'AAPL210618C00018750', 'str...</td>\n",
       "    </tr>\n",
       "    <tr>\n",
       "      <th>2</th>\n",
       "      <td>20.00</td>\n",
       "      <td>2021-06-18</td>\n",
       "      <td>call</td>\n",
       "      <td>...</td>\n",
       "      <td>2021-04-19 14:30:42</td>\n",
       "      <td>2021-04-14 15:36:52</td>\n",
       "      <td>{'contractSymbol': 'AAPL210618C00020000', 'str...</td>\n",
       "    </tr>\n",
       "    <tr>\n",
       "      <th>4</th>\n",
       "      <td>21.25</td>\n",
       "      <td>2021-06-18</td>\n",
       "      <td>call</td>\n",
       "      <td>...</td>\n",
       "      <td>2021-04-19 14:30:42</td>\n",
       "      <td>2021-02-04 18:50:12</td>\n",
       "      <td>{'contractSymbol': 'AAPL210618C00021250', 'str...</td>\n",
       "    </tr>\n",
       "    <tr>\n",
       "      <th>6</th>\n",
       "      <td>22.50</td>\n",
       "      <td>2021-06-18</td>\n",
       "      <td>call</td>\n",
       "      <td>...</td>\n",
       "      <td>2021-04-19 14:30:42</td>\n",
       "      <td>2021-02-04 18:50:12</td>\n",
       "      <td>{'contractSymbol': 'AAPL210618C00022500', 'str...</td>\n",
       "    </tr>\n",
       "    <tr>\n",
       "      <th>13</th>\n",
       "      <td>25.00</td>\n",
       "      <td>2021-06-18</td>\n",
       "      <td>call</td>\n",
       "      <td>...</td>\n",
       "      <td>2021-04-19 14:30:42</td>\n",
       "      <td>2021-04-16 15:20:28</td>\n",
       "      <td>{'contractSymbol': 'AAPL210618C00025000', 'str...</td>\n",
       "    </tr>\n",
       "    <tr>\n",
       "      <th>...</th>\n",
       "      <td>...</td>\n",
       "      <td>...</td>\n",
       "      <td>...</td>\n",
       "      <td>...</td>\n",
       "      <td>...</td>\n",
       "      <td>...</td>\n",
       "      <td>...</td>\n",
       "    </tr>\n",
       "    <tr>\n",
       "      <th>2220</th>\n",
       "      <td>720.00</td>\n",
       "      <td>2021-06-18</td>\n",
       "      <td>call</td>\n",
       "      <td>...</td>\n",
       "      <td>2021-04-19 14:30:42</td>\n",
       "      <td>2020-08-28 19:40:17</td>\n",
       "      <td>{'contractSymbol': 'AAPL210618C00720000', 'str...</td>\n",
       "    </tr>\n",
       "    <tr>\n",
       "      <th>2227</th>\n",
       "      <td>740.00</td>\n",
       "      <td>2021-06-18</td>\n",
       "      <td>call</td>\n",
       "      <td>...</td>\n",
       "      <td>2021-04-19 14:30:42</td>\n",
       "      <td>2020-08-28 19:01:26</td>\n",
       "      <td>{'contractSymbol': 'AAPL210618C00740000', 'str...</td>\n",
       "    </tr>\n",
       "    <tr>\n",
       "      <th>2233</th>\n",
       "      <td>800.00</td>\n",
       "      <td>2021-06-18</td>\n",
       "      <td>call</td>\n",
       "      <td>...</td>\n",
       "      <td>2021-04-19 14:30:42</td>\n",
       "      <td>2020-08-28 17:55:20</td>\n",
       "      <td>{'contractSymbol': 'AAPL210618C00800000', 'str...</td>\n",
       "    </tr>\n",
       "    <tr>\n",
       "      <th>2238</th>\n",
       "      <td>900.00</td>\n",
       "      <td>2021-06-18</td>\n",
       "      <td>call</td>\n",
       "      <td>...</td>\n",
       "      <td>2021-04-19 14:30:42</td>\n",
       "      <td>2020-08-28 16:08:44</td>\n",
       "      <td>{'contractSymbol': 'AAPL210618C00900000', 'str...</td>\n",
       "    </tr>\n",
       "    <tr>\n",
       "      <th>2243</th>\n",
       "      <td>1000.00</td>\n",
       "      <td>2021-06-18</td>\n",
       "      <td>call</td>\n",
       "      <td>...</td>\n",
       "      <td>2021-04-19 14:30:42</td>\n",
       "      <td>2020-08-28 19:59:05</td>\n",
       "      <td>{'contractSymbol': 'AAPL210618C01000000', 'str...</td>\n",
       "    </tr>\n",
       "  </tbody>\n",
       "</table>\n",
       "<p>133 rows × 19 columns</p>\n",
       "</div>"
      ],
      "text/plain": [
       "       Strike     Expiry  Type  ...          Quote_Time     Last_Trade_Date  \\\n",
       "0       18.75 2021-06-18  call  ... 2021-04-19 14:30:42 2021-04-13 18:24:30   \n",
       "2       20.00 2021-06-18  call  ... 2021-04-19 14:30:42 2021-04-14 15:36:52   \n",
       "4       21.25 2021-06-18  call  ... 2021-04-19 14:30:42 2021-02-04 18:50:12   \n",
       "6       22.50 2021-06-18  call  ... 2021-04-19 14:30:42 2021-02-04 18:50:12   \n",
       "13      25.00 2021-06-18  call  ... 2021-04-19 14:30:42 2021-04-16 15:20:28   \n",
       "...       ...        ...   ...  ...                 ...                 ...   \n",
       "2220   720.00 2021-06-18  call  ... 2021-04-19 14:30:42 2020-08-28 19:40:17   \n",
       "2227   740.00 2021-06-18  call  ... 2021-04-19 14:30:42 2020-08-28 19:01:26   \n",
       "2233   800.00 2021-06-18  call  ... 2021-04-19 14:30:42 2020-08-28 17:55:20   \n",
       "2238   900.00 2021-06-18  call  ... 2021-04-19 14:30:42 2020-08-28 16:08:44   \n",
       "2243  1000.00 2021-06-18  call  ... 2021-04-19 14:30:42 2020-08-28 19:59:05   \n",
       "\n",
       "                                                   JSON  \n",
       "0     {'contractSymbol': 'AAPL210618C00018750', 'str...  \n",
       "2     {'contractSymbol': 'AAPL210618C00020000', 'str...  \n",
       "4     {'contractSymbol': 'AAPL210618C00021250', 'str...  \n",
       "6     {'contractSymbol': 'AAPL210618C00022500', 'str...  \n",
       "13    {'contractSymbol': 'AAPL210618C00025000', 'str...  \n",
       "...                                                 ...  \n",
       "2220  {'contractSymbol': 'AAPL210618C00720000', 'str...  \n",
       "2227  {'contractSymbol': 'AAPL210618C00740000', 'str...  \n",
       "2233  {'contractSymbol': 'AAPL210618C00800000', 'str...  \n",
       "2238  {'contractSymbol': 'AAPL210618C00900000', 'str...  \n",
       "2243  {'contractSymbol': 'AAPL210618C01000000', 'str...  \n",
       "\n",
       "[133 rows x 19 columns]"
      ]
     },
     "execution_count": 4,
     "metadata": {},
     "output_type": "execute_result"
    }
   ],
   "source": [
    "fecha1 = '2021-06-18'\n",
    "fecha2 = '2022-09-16'\n",
    "call06_f1 = aapl_opt.loc[(aapl_opt.Expiry== fecha1) & (aapl_opt.Type=='call')]\n",
    "call06_f2 = aapl_opt.loc[(aapl_opt.Expiry== fecha2) & (aapl_opt.Type=='call')]\n",
    "call06_f1\n"
   ]
  },
  {
   "cell_type": "markdown",
   "metadata": {},
   "source": [
    "## 2. ¿Qué es la volatilidad implícita?"
   ]
  },
  {
   "cell_type": "markdown",
   "metadata": {},
   "source": [
    "**Volatilidad:** desviación estándar de los rendimientos.\n",
    "- ¿Cómo se calcula?\n",
    "- ¿Para qué calcular la volatilidad?"
   ]
  },
  {
   "attachments": {
    "imagen.png": {
     "image/png": "[encoded data removed]"
    }
   },
   "cell_type": "markdown",
   "metadata": {},
   "source": [
    "- **Para valuar derivados**, por ejemplo **opciones**.\n",
    "- Método de valuación de riesgo neutral (se supone que el precio del activo $S_t$ no se ve afectado por el riesgo de mercado).\n",
    "\n",
    "Recorderis de cuantitativas:\n",
    "1. Ecuación de Black-Scholes\n",
    "$$ dS(t) = \\mu S(t) + \\sigma S(t)dW_t$$\n",
    "2. Solución de la ecuación\n",
    "\n",
    "El valor de una opción Europea de vainilla $V_t$ puede obtenerse por:\n",
    "$$V_t = F(t,S_t)$$ donde\n",
    "![imagen.png](attachment:imagen.png)\n",
    "3. Opción de compra europea, suponiendo que los precios del activo son lognormales\n",
    "4. Opción de venta europea, suponiendo que los precios del activo son lognormales"
   ]
  },
  {
   "cell_type": "markdown",
   "metadata": {},
   "source": [
    "Entonces, ¿qué es la **volatilidad implícita**?\n",
    "\n",
    "La volatilidad es una medida de la incertidumbre sobre el comportamiento futuro de un activo, que se mide habitualmente como la desviación típica de la rentabilidad de dicho activo. "
   ]
  },
  {
   "attachments": {
    "imagen.png": {
     "image/png": "[encoded data removed]"
    }
   },
   "cell_type": "markdown",
   "metadata": {},
   "source": [
    "## Volatility smile \n",
    "-  Cuando las opciones con la misma fecha de vencimiento y el mismo activo subyacente, pero diferentes precios de ejercicio, se grafican por la volatilidad implícita, la tendencia es que ese gráfico muestre una sonrisa.\n",
    "-  La sonrisa muestra que las opciones más alejadas 'in- or out-of-the-money' tienen la mayor volatilidad implícita.\n",
    "- No todas las opciones tendrán una sonrisa de volatilidad implícita. Las opciones de acciones a corto plazo y las opciones relacionadas con la moneda tienen más probabilidades de tener una sonrisa de volatilidad\n",
    "\n",
    "![imagen.png](attachment:imagen.png)\n",
    "\n",
    "> Fuente: https://www.investopedia.com/terms/v/volatilitysmile.asp"
   ]
  },
  {
   "cell_type": "markdown",
   "metadata": {},
   "source": [
    "> ### Validar para la `fecha = 2020-06-19` y para la fecha `fecha = '2021-01-15'`"
   ]
  },
  {
   "cell_type": "code",
   "execution_count": 20,
   "metadata": {
    "scrolled": false
   },
   "outputs": [
    {
     "data": {
      "image/png": "[encoded data removed]",
      "text/plain": [
       "<Figure size 576x432 with 1 Axes>"
      ]
     },
     "metadata": {
      "needs_background": "light"
     },
     "output_type": "display_data"
    }
   ],
   "source": [
    "# para los call de la fecha 1\n",
    "ax = call06_f1.set_index('Strike').loc[:, 'IV'].plot(figsize=(8,6))\n",
    "ax.axvline(call06_f1.Underlying_Price.iloc[0], color='g');"
   ]
  },
  {
   "cell_type": "code",
   "execution_count": 22,
   "metadata": {},
   "outputs": [
    {
     "data": {
      "image/png": "[encoded data removed]",
      "text/plain": [
       "<Figure size 576x432 with 1 Axes>"
      ]
     },
     "metadata": {
      "needs_background": "light"
     },
     "output_type": "display_data"
    }
   ],
   "source": [
    "# para los call de la fecha 2\n",
    "ax = call06_f2.set_index('Strike').loc[:, 'IV'].plot(figsize=(8,6))\n",
    "ax.axvline(call06_f2.Underlying_Price.iloc[0], color='g');"
   ]
  },
  {
   "cell_type": "markdown",
   "metadata": {},
   "source": [
    "Analicemos ahora datos de los `put`"
   ]
  },
  {
   "cell_type": "code",
   "execution_count": 23,
   "metadata": {},
   "outputs": [
    {
     "data": {
      "text/html": [
       "<div>\n",
       "<style scoped>\n",
       "    .dataframe tbody tr th:only-of-type {\n",
       "        vertical-align: middle;\n",
       "    }\n",
       "\n",
       "    .dataframe tbody tr th {\n",
       "        vertical-align: top;\n",
       "    }\n",
       "\n",
       "    .dataframe thead th {\n",
       "        text-align: right;\n",
       "    }\n",
       "</style>\n",
       "<table border=\"1\" class=\"dataframe\">\n",
       "  <thead>\n",
       "    <tr style=\"text-align: right;\">\n",
       "      <th></th>\n",
       "      <th>Strike</th>\n",
       "      <th>Expiry</th>\n",
       "      <th>Type</th>\n",
       "      <th>...</th>\n",
       "      <th>Quote_Time</th>\n",
       "      <th>Last_Trade_Date</th>\n",
       "      <th>JSON</th>\n",
       "    </tr>\n",
       "  </thead>\n",
       "  <tbody>\n",
       "    <tr>\n",
       "      <th>3</th>\n",
       "      <td>18.75</td>\n",
       "      <td>2021-06-18</td>\n",
       "      <td>put</td>\n",
       "      <td>...</td>\n",
       "      <td>2020-11-19 21:00:01</td>\n",
       "      <td>2020-11-18 17:07:44</td>\n",
       "      <td>{'contractSymbol': 'AAPL210618P00018750', 'str...</td>\n",
       "    </tr>\n",
       "    <tr>\n",
       "      <th>9</th>\n",
       "      <td>20.00</td>\n",
       "      <td>2021-06-18</td>\n",
       "      <td>put</td>\n",
       "      <td>...</td>\n",
       "      <td>2020-11-19 21:00:01</td>\n",
       "      <td>2020-11-02 15:02:10</td>\n",
       "      <td>{'contractSymbol': 'AAPL210618P00020000', 'str...</td>\n",
       "    </tr>\n",
       "    <tr>\n",
       "      <th>12</th>\n",
       "      <td>21.25</td>\n",
       "      <td>2021-06-18</td>\n",
       "      <td>put</td>\n",
       "      <td>...</td>\n",
       "      <td>2020-11-19 21:00:01</td>\n",
       "      <td>2020-11-13 15:34:51</td>\n",
       "      <td>{'contractSymbol': 'AAPL210618P00021250', 'str...</td>\n",
       "    </tr>\n",
       "    <tr>\n",
       "      <th>20</th>\n",
       "      <td>22.50</td>\n",
       "      <td>2021-06-18</td>\n",
       "      <td>put</td>\n",
       "      <td>...</td>\n",
       "      <td>2020-11-19 21:00:01</td>\n",
       "      <td>2020-11-09 20:14:50</td>\n",
       "      <td>{'contractSymbol': 'AAPL210618P00022500', 'str...</td>\n",
       "    </tr>\n",
       "    <tr>\n",
       "      <th>23</th>\n",
       "      <td>23.75</td>\n",
       "      <td>2021-06-18</td>\n",
       "      <td>put</td>\n",
       "      <td>...</td>\n",
       "      <td>2020-11-19 21:00:01</td>\n",
       "      <td>2020-11-16 15:25:19</td>\n",
       "      <td>{'contractSymbol': 'AAPL210618P00023750', 'str...</td>\n",
       "    </tr>\n",
       "    <tr>\n",
       "      <th>...</th>\n",
       "      <td>...</td>\n",
       "      <td>...</td>\n",
       "      <td>...</td>\n",
       "      <td>...</td>\n",
       "      <td>...</td>\n",
       "      <td>...</td>\n",
       "      <td>...</td>\n",
       "    </tr>\n",
       "    <tr>\n",
       "      <th>3225</th>\n",
       "      <td>640.00</td>\n",
       "      <td>2021-06-18</td>\n",
       "      <td>put</td>\n",
       "      <td>...</td>\n",
       "      <td>2020-11-19 21:00:01</td>\n",
       "      <td>2020-08-25 16:08:58</td>\n",
       "      <td>{'contractSymbol': 'AAPL210618P00640000', 'str...</td>\n",
       "    </tr>\n",
       "    <tr>\n",
       "      <th>3247</th>\n",
       "      <td>660.00</td>\n",
       "      <td>2021-06-18</td>\n",
       "      <td>put</td>\n",
       "      <td>...</td>\n",
       "      <td>2020-11-19 21:00:01</td>\n",
       "      <td>2020-08-27 16:29:02</td>\n",
       "      <td>{'contractSymbol': 'AAPL210618P00660000', 'str...</td>\n",
       "    </tr>\n",
       "    <tr>\n",
       "      <th>3264</th>\n",
       "      <td>680.00</td>\n",
       "      <td>2021-06-18</td>\n",
       "      <td>put</td>\n",
       "      <td>...</td>\n",
       "      <td>2020-11-19 21:00:01</td>\n",
       "      <td>2020-08-25 14:59:07</td>\n",
       "      <td>{'contractSymbol': 'AAPL210618P00680000', 'str...</td>\n",
       "    </tr>\n",
       "    <tr>\n",
       "      <th>3282</th>\n",
       "      <td>700.00</td>\n",
       "      <td>2021-06-18</td>\n",
       "      <td>put</td>\n",
       "      <td>...</td>\n",
       "      <td>2020-11-19 21:00:01</td>\n",
       "      <td>2020-08-27 19:58:45</td>\n",
       "      <td>{'contractSymbol': 'AAPL210618P00700000', 'str...</td>\n",
       "    </tr>\n",
       "    <tr>\n",
       "      <th>3352</th>\n",
       "      <td>1000.00</td>\n",
       "      <td>2021-06-18</td>\n",
       "      <td>put</td>\n",
       "      <td>...</td>\n",
       "      <td>2020-11-19 21:00:01</td>\n",
       "      <td>2020-08-27 13:30:07</td>\n",
       "      <td>{'contractSymbol': 'AAPL210618P01000000', 'str...</td>\n",
       "    </tr>\n",
       "  </tbody>\n",
       "</table>\n",
       "<p>130 rows × 19 columns</p>\n",
       "</div>"
      ],
      "text/plain": [
       "       Strike     Expiry Type  ...          Quote_Time     Last_Trade_Date  \\\n",
       "3       18.75 2021-06-18  put  ... 2020-11-19 21:00:01 2020-11-18 17:07:44   \n",
       "9       20.00 2021-06-18  put  ... 2020-11-19 21:00:01 2020-11-02 15:02:10   \n",
       "12      21.25 2021-06-18  put  ... 2020-11-19 21:00:01 2020-11-13 15:34:51   \n",
       "20      22.50 2021-06-18  put  ... 2020-11-19 21:00:01 2020-11-09 20:14:50   \n",
       "23      23.75 2021-06-18  put  ... 2020-11-19 21:00:01 2020-11-16 15:25:19   \n",
       "...       ...        ...  ...  ...                 ...                 ...   \n",
       "3225   640.00 2021-06-18  put  ... 2020-11-19 21:00:01 2020-08-25 16:08:58   \n",
       "3247   660.00 2021-06-18  put  ... 2020-11-19 21:00:01 2020-08-27 16:29:02   \n",
       "3264   680.00 2021-06-18  put  ... 2020-11-19 21:00:01 2020-08-25 14:59:07   \n",
       "3282   700.00 2021-06-18  put  ... 2020-11-19 21:00:01 2020-08-27 19:58:45   \n",
       "3352  1000.00 2021-06-18  put  ... 2020-11-19 21:00:01 2020-08-27 13:30:07   \n",
       "\n",
       "                                                   JSON  \n",
       "3     {'contractSymbol': 'AAPL210618P00018750', 'str...  \n",
       "9     {'contractSymbol': 'AAPL210618P00020000', 'str...  \n",
       "12    {'contractSymbol': 'AAPL210618P00021250', 'str...  \n",
       "20    {'contractSymbol': 'AAPL210618P00022500', 'str...  \n",
       "23    {'contractSymbol': 'AAPL210618P00023750', 'str...  \n",
       "...                                                 ...  \n",
       "3225  {'contractSymbol': 'AAPL210618P00640000', 'str...  \n",
       "3247  {'contractSymbol': 'AAPL210618P00660000', 'str...  \n",
       "3264  {'contractSymbol': 'AAPL210618P00680000', 'str...  \n",
       "3282  {'contractSymbol': 'AAPL210618P00700000', 'str...  \n",
       "3352  {'contractSymbol': 'AAPL210618P01000000', 'str...  \n",
       "\n",
       "[130 rows x 19 columns]"
      ]
     },
     "execution_count": 23,
     "metadata": {},
     "output_type": "execute_result"
    }
   ],
   "source": [
    "put06_f1 = aapl_opt.loc[(aapl_opt.Expiry==fecha1) & (aapl_opt.Type=='put')]\n",
    "put06_f1"
   ]
  },
  {
   "cell_type": "markdown",
   "metadata": {},
   "source": [
    "Para los `put` de la `fecha 1`"
   ]
  },
  {
   "cell_type": "code",
   "execution_count": 24,
   "metadata": {},
   "outputs": [
    {
     "data": {
      "text/plain": [
       "<matplotlib.lines.Line2D at 0x7faa5081ac40>"
      ]
     },
     "execution_count": 24,
     "metadata": {},
     "output_type": "execute_result"
    },
    {
     "data": {
      "image/png": "[encoded data removed]",
      "text/plain": [
       "<Figure size 576x432 with 1 Axes>"
      ]
     },
     "metadata": {
      "needs_background": "light"
     },
     "output_type": "display_data"
    }
   ],
   "source": [
    "ax = put06_f1.set_index('Strike').loc[:, 'IV'].plot(figsize=(8,6))\n",
    "ax.axvline(put06_f1.Underlying_Price.iloc[0], color='g')"
   ]
  },
  {
   "cell_type": "markdown",
   "metadata": {},
   "source": [
    "Con lo que hemos aprendido, deberíamos ser capaces de crear una función que nos devuelva un `DataFrame` de `pandas` con los precios de cierre ajustados de ciertas compañías en ciertas fechas:\n",
    "- Escribir la función a continuación"
   ]
  },
  {
   "cell_type": "code",
   "execution_count": 11,
   "metadata": {},
   "outputs": [],
   "source": [
    "# Función para descargar precios de cierre ajustados:\n",
    "def get_adj_closes(tickers, start_date=None, end_date=None):\n",
    "    # Fecha inicio por defecto (start_date='2010-01-01') y fecha fin por defecto (end_date=today)\n",
    "    # Descargamos DataFrame con todos los datos\n",
    "    closes = web.DataReader(name=tickers, data_source='yahoo', start=start_date, end=end_date)\n",
    "    # Solo necesitamos los precios ajustados en el cierre\n",
    "    closes = closes['Adj Close']\n",
    "    # Se ordenan los índices de manera ascendente\n",
    "    closes.sort_index(inplace=True)\n",
    "    return closes"
   ]
  },
  {
   "cell_type": "markdown",
   "metadata": {},
   "source": [
    "- Obtener como ejemplo los precios de cierre de Apple del año pasado hasta la fecha. Graficar..."
   ]
  },
  {
   "cell_type": "code",
   "execution_count": 13,
   "metadata": {},
   "outputs": [
    {
     "data": {
      "image/png": "[encoded data removed]",
      "text/plain": [
       "<Figure size 576x360 with 1 Axes>"
      ]
     },
     "metadata": {},
     "output_type": "display_data"
    }
   ],
   "source": [
    "plt.style.use(['dark_background'])\n",
    "\n",
    "ticker = ['AAPL']\n",
    "start_date = '2017-01-01'\n",
    "\n",
    "closes_aapl = get_adj_closes(ticker, start_date)\n",
    "closes_aapl.plot(figsize=(8,5));\n",
    "plt.legend(ticker);"
   ]
  },
  {
   "cell_type": "code",
   "execution_count": 30,
   "metadata": {},
   "outputs": [
    {
     "data": {
      "text/plain": [
       "Symbols\n",
       "AAPL    151.0\n",
       "Name: 2021-11-16 00:00:00, dtype: float64"
      ]
     },
     "execution_count": 30,
     "metadata": {},
     "output_type": "execute_result"
    }
   ],
   "source": [
    "closes_aapl.iloc[-1]"
   ]
  },
  {
   "cell_type": "markdown",
   "metadata": {},
   "source": [
    "- Escribir una función que pasándole el histórico de precios devuelva los rendimientos logarítmicos:"
   ]
  },
  {
   "cell_type": "code",
   "execution_count": 14,
   "metadata": {},
   "outputs": [],
   "source": [
    "def calc_daily_ret(closes):\n",
    "    return np.log(closes/closes.shift(1)).iloc[1:]"
   ]
  },
  {
   "cell_type": "markdown",
   "metadata": {},
   "source": [
    "- Graficar..."
   ]
  },
  {
   "cell_type": "code",
   "execution_count": 15,
   "metadata": {},
   "outputs": [
    {
     "data": {
      "image/png": "[encoded data removed]",
      "text/plain": [
       "<Figure size 576x432 with 1 Axes>"
      ]
     },
     "metadata": {},
     "output_type": "display_data"
    }
   ],
   "source": [
    "ret_aapl = calc_daily_ret(closes_aapl)\n",
    "ret_aapl.plot(figsize=(8,6));"
   ]
  },
  {
   "cell_type": "markdown",
   "metadata": {},
   "source": [
    "También, descargar datos de opciones de Apple:"
   ]
  },
  {
   "cell_type": "code",
   "execution_count": 29,
   "metadata": {
    "scrolled": false
   },
   "outputs": [
    {
     "data": {
      "text/html": [
       "<div>\n",
       "<style scoped>\n",
       "    .dataframe tbody tr th:only-of-type {\n",
       "        vertical-align: middle;\n",
       "    }\n",
       "\n",
       "    .dataframe tbody tr th {\n",
       "        vertical-align: top;\n",
       "    }\n",
       "\n",
       "    .dataframe thead th {\n",
       "        text-align: right;\n",
       "    }\n",
       "</style>\n",
       "<table border=\"1\" class=\"dataframe\">\n",
       "  <thead>\n",
       "    <tr style=\"text-align: right;\">\n",
       "      <th></th>\n",
       "      <th>Strike</th>\n",
       "      <th>Type</th>\n",
       "      <th>Symbol</th>\n",
       "      <th>...</th>\n",
       "      <th>Quote_Time</th>\n",
       "      <th>Last_Trade_Date</th>\n",
       "      <th>JSON</th>\n",
       "    </tr>\n",
       "    <tr>\n",
       "      <th>Expiry</th>\n",
       "      <th></th>\n",
       "      <th></th>\n",
       "      <th></th>\n",
       "      <th></th>\n",
       "      <th></th>\n",
       "      <th></th>\n",
       "      <th></th>\n",
       "    </tr>\n",
       "  </thead>\n",
       "  <tbody>\n",
       "    <tr>\n",
       "      <th>2020-11-20</th>\n",
       "      <td>230.00</td>\n",
       "      <td>call</td>\n",
       "      <td>AAPL201120C00230000</td>\n",
       "      <td>...</td>\n",
       "      <td>2020-11-19 21:00:01</td>\n",
       "      <td>2020-08-04 17:22:07</td>\n",
       "      <td>{'contractSymbol': 'AAPL201120C00230000', 'str...</td>\n",
       "    </tr>\n",
       "    <tr>\n",
       "      <th>2020-11-20</th>\n",
       "      <td>60.00</td>\n",
       "      <td>put</td>\n",
       "      <td>AAPL201120P00060000</td>\n",
       "      <td>...</td>\n",
       "      <td>2020-11-19 21:00:01</td>\n",
       "      <td>2020-11-18 16:38:58</td>\n",
       "      <td>{'contractSymbol': 'AAPL201120P00060000', 'str...</td>\n",
       "    </tr>\n",
       "    <tr>\n",
       "      <th>2020-11-20</th>\n",
       "      <td>60.00</td>\n",
       "      <td>call</td>\n",
       "      <td>AAPL201120C00060000</td>\n",
       "      <td>...</td>\n",
       "      <td>2020-11-19 21:00:01</td>\n",
       "      <td>2020-11-19 15:26:59</td>\n",
       "      <td>{'contractSymbol': 'AAPL201120C00060000', 'str...</td>\n",
       "    </tr>\n",
       "    <tr>\n",
       "      <th>2020-11-20</th>\n",
       "      <td>183.75</td>\n",
       "      <td>put</td>\n",
       "      <td>AAPL201120P00183750</td>\n",
       "      <td>...</td>\n",
       "      <td>2020-11-19 21:00:01</td>\n",
       "      <td>2020-11-09 16:28:55</td>\n",
       "      <td>{'contractSymbol': 'AAPL201120P00183750', 'str...</td>\n",
       "    </tr>\n",
       "    <tr>\n",
       "      <th>2020-11-20</th>\n",
       "      <td>415.00</td>\n",
       "      <td>call</td>\n",
       "      <td>AAPL201120C00415000</td>\n",
       "      <td>...</td>\n",
       "      <td>2020-11-19 21:00:01</td>\n",
       "      <td>2020-08-28 15:36:26</td>\n",
       "      <td>{'contractSymbol': 'AAPL201120C00415000', 'str...</td>\n",
       "    </tr>\n",
       "    <tr>\n",
       "      <th>...</th>\n",
       "      <td>...</td>\n",
       "      <td>...</td>\n",
       "      <td>...</td>\n",
       "      <td>...</td>\n",
       "      <td>...</td>\n",
       "      <td>...</td>\n",
       "      <td>...</td>\n",
       "    </tr>\n",
       "    <tr>\n",
       "      <th>2023-01-20</th>\n",
       "      <td>95.00</td>\n",
       "      <td>call</td>\n",
       "      <td>AAPL230120C00095000</td>\n",
       "      <td>...</td>\n",
       "      <td>2020-11-19 21:00:01</td>\n",
       "      <td>2020-11-19 20:30:03</td>\n",
       "      <td>{'contractSymbol': 'AAPL230120C00095000', 'str...</td>\n",
       "    </tr>\n",
       "    <tr>\n",
       "      <th>2023-01-20</th>\n",
       "      <td>145.00</td>\n",
       "      <td>call</td>\n",
       "      <td>AAPL230120C00145000</td>\n",
       "      <td>...</td>\n",
       "      <td>2020-11-19 21:00:01</td>\n",
       "      <td>2020-11-19 20:19:32</td>\n",
       "      <td>{'contractSymbol': 'AAPL230120C00145000', 'str...</td>\n",
       "    </tr>\n",
       "    <tr>\n",
       "      <th>2023-01-20</th>\n",
       "      <td>65.00</td>\n",
       "      <td>put</td>\n",
       "      <td>AAPL230120P00065000</td>\n",
       "      <td>...</td>\n",
       "      <td>2020-11-19 21:00:01</td>\n",
       "      <td>2020-11-18 19:49:34</td>\n",
       "      <td>{'contractSymbol': 'AAPL230120P00065000', 'str...</td>\n",
       "    </tr>\n",
       "    <tr>\n",
       "      <th>2023-01-20</th>\n",
       "      <td>50.00</td>\n",
       "      <td>put</td>\n",
       "      <td>AAPL230120P00050000</td>\n",
       "      <td>...</td>\n",
       "      <td>2020-11-19 21:00:01</td>\n",
       "      <td>2020-11-19 17:58:42</td>\n",
       "      <td>{'contractSymbol': 'AAPL230120P00050000', 'str...</td>\n",
       "    </tr>\n",
       "    <tr>\n",
       "      <th>2023-01-20</th>\n",
       "      <td>120.00</td>\n",
       "      <td>put</td>\n",
       "      <td>AAPL230120P00120000</td>\n",
       "      <td>...</td>\n",
       "      <td>2020-11-19 21:00:01</td>\n",
       "      <td>2020-11-19 20:48:45</td>\n",
       "      <td>{'contractSymbol': 'AAPL230120P00120000', 'str...</td>\n",
       "    </tr>\n",
       "  </tbody>\n",
       "</table>\n",
       "<p>3358 rows × 18 columns</p>\n",
       "</div>"
      ],
      "text/plain": [
       "            Strike  Type               Symbol  ...          Quote_Time  \\\n",
       "Expiry                                         ...                       \n",
       "2020-11-20  230.00  call  AAPL201120C00230000  ... 2020-11-19 21:00:01   \n",
       "2020-11-20   60.00   put  AAPL201120P00060000  ... 2020-11-19 21:00:01   \n",
       "2020-11-20   60.00  call  AAPL201120C00060000  ... 2020-11-19 21:00:01   \n",
       "2020-11-20  183.75   put  AAPL201120P00183750  ... 2020-11-19 21:00:01   \n",
       "2020-11-20  415.00  call  AAPL201120C00415000  ... 2020-11-19 21:00:01   \n",
       "...            ...   ...                  ...  ...                 ...   \n",
       "2023-01-20   95.00  call  AAPL230120C00095000  ... 2020-11-19 21:00:01   \n",
       "2023-01-20  145.00  call  AAPL230120C00145000  ... 2020-11-19 21:00:01   \n",
       "2023-01-20   65.00   put  AAPL230120P00065000  ... 2020-11-19 21:00:01   \n",
       "2023-01-20   50.00   put  AAPL230120P00050000  ... 2020-11-19 21:00:01   \n",
       "2023-01-20  120.00   put  AAPL230120P00120000  ... 2020-11-19 21:00:01   \n",
       "\n",
       "               Last_Trade_Date  \\\n",
       "Expiry                           \n",
       "2020-11-20 2020-08-04 17:22:07   \n",
       "2020-11-20 2020-11-18 16:38:58   \n",
       "2020-11-20 2020-11-19 15:26:59   \n",
       "2020-11-20 2020-11-09 16:28:55   \n",
       "2020-11-20 2020-08-28 15:36:26   \n",
       "...                        ...   \n",
       "2023-01-20 2020-11-19 20:30:03   \n",
       "2023-01-20 2020-11-19 20:19:32   \n",
       "2023-01-20 2020-11-18 19:49:34   \n",
       "2023-01-20 2020-11-19 17:58:42   \n",
       "2023-01-20 2020-11-19 20:48:45   \n",
       "\n",
       "                                                         JSON  \n",
       "Expiry                                                         \n",
       "2020-11-20  {'contractSymbol': 'AAPL201120C00230000', 'str...  \n",
       "2020-11-20  {'contractSymbol': 'AAPL201120P00060000', 'str...  \n",
       "2020-11-20  {'contractSymbol': 'AAPL201120C00060000', 'str...  \n",
       "2020-11-20  {'contractSymbol': 'AAPL201120P00183750', 'str...  \n",
       "2020-11-20  {'contractSymbol': 'AAPL201120C00415000', 'str...  \n",
       "...                                                       ...  \n",
       "2023-01-20  {'contractSymbol': 'AAPL230120C00095000', 'str...  \n",
       "2023-01-20  {'contractSymbol': 'AAPL230120C00145000', 'str...  \n",
       "2023-01-20  {'contractSymbol': 'AAPL230120P00065000', 'str...  \n",
       "2023-01-20  {'contractSymbol': 'AAPL230120P00050000', 'str...  \n",
       "2023-01-20  {'contractSymbol': 'AAPL230120P00120000', 'str...  \n",
       "\n",
       "[3358 rows x 18 columns]"
      ]
     },
     "execution_count": 29,
     "metadata": {},
     "output_type": "execute_result"
    }
   ],
   "source": [
    "aapl = web.YahooOptions('AAPL')\n",
    "aapl_opt = aapl.get_all_data().reset_index()\n",
    "aapl_opt.set_index('Expiry').sort_index()"
   ]
  },
  {
   "cell_type": "code",
   "execution_count": 30,
   "metadata": {},
   "outputs": [
    {
     "data": {
      "text/html": [
       "<div>\n",
       "<style scoped>\n",
       "    .dataframe tbody tr th:only-of-type {\n",
       "        vertical-align: middle;\n",
       "    }\n",
       "\n",
       "    .dataframe tbody tr th {\n",
       "        vertical-align: top;\n",
       "    }\n",
       "\n",
       "    .dataframe thead th {\n",
       "        text-align: right;\n",
       "    }\n",
       "</style>\n",
       "<table border=\"1\" class=\"dataframe\">\n",
       "  <thead>\n",
       "    <tr style=\"text-align: right;\">\n",
       "      <th></th>\n",
       "      <th>Strike</th>\n",
       "      <th>Expiry</th>\n",
       "      <th>Type</th>\n",
       "      <th>...</th>\n",
       "      <th>Quote_Time</th>\n",
       "      <th>Last_Trade_Date</th>\n",
       "      <th>JSON</th>\n",
       "    </tr>\n",
       "  </thead>\n",
       "  <tbody>\n",
       "    <tr>\n",
       "      <th>1224</th>\n",
       "      <td>110.0</td>\n",
       "      <td>2021-01-15</td>\n",
       "      <td>call</td>\n",
       "      <td>...</td>\n",
       "      <td>2020-11-19 21:00:01</td>\n",
       "      <td>2020-11-19 20:59:48</td>\n",
       "      <td>{'contractSymbol': 'AAPL210115C00110000', 'str...</td>\n",
       "    </tr>\n",
       "  </tbody>\n",
       "</table>\n",
       "<p>1 rows × 19 columns</p>\n",
       "</div>"
      ],
      "text/plain": [
       "      Strike     Expiry  Type  ...          Quote_Time     Last_Trade_Date  \\\n",
       "1224   110.0 2021-01-15  call  ... 2020-11-19 21:00:01 2020-11-19 20:59:48   \n",
       "\n",
       "                                                   JSON  \n",
       "1224  {'contractSymbol': 'AAPL210115C00110000', 'str...  \n",
       "\n",
       "[1 rows x 19 columns]"
      ]
     },
     "execution_count": 30,
     "metadata": {},
     "output_type": "execute_result"
    }
   ],
   "source": [
    "K = 110 # strike price\n",
    "indice_opt = aapl_opt.loc[(aapl_opt.Type=='call') & (aapl_opt.Strike==K) & (aapl_opt.Expiry=='2021-01-15')]\n",
    "indice_opt"
   ]
  },
  {
   "cell_type": "code",
   "execution_count": 31,
   "metadata": {
    "scrolled": false
   },
   "outputs": [
    {
     "data": {
      "text/plain": [
       "{'contractSymbol': 'AAPL210115C00110000',\n",
       " 'strike': 110.0,\n",
       " 'currency': 'USD',\n",
       " 'lastPrice': 11.35,\n",
       " 'change': 0.3000002,\n",
       " 'percentChange': 2.7149339,\n",
       " 'volume': 557,\n",
       " 'openInterest': 60705,\n",
       " 'bid': 11.2,\n",
       " 'ask': 11.35,\n",
       " 'contractSize': 'REGULAR',\n",
       " 'expiration': 1610668800,\n",
       " 'lastTradeDate': 1605819588,\n",
       " 'impliedVolatility': 0.33460138061523437,\n",
       " 'inTheMoney': True}"
      ]
     },
     "execution_count": 31,
     "metadata": {},
     "output_type": "execute_result"
    }
   ],
   "source": [
    "i_opt= indice_opt.index\n",
    "opcion_valuar = aapl_opt.loc[i_opt[0]]\n",
    "opcion_valuar['JSON']"
   ]
  },
  {
   "cell_type": "code",
   "execution_count": 32,
   "metadata": {},
   "outputs": [
    {
     "name": "stdout",
     "output_type": "stream",
     "text": [
      "Precio del activo subyacente actual =  118.64\n"
     ]
    }
   ],
   "source": [
    "print('Precio del activo subyacente actual = ',opcion_valuar.Underlying_Price)"
   ]
  },
  {
   "cell_type": "markdown",
   "metadata": {},
   "source": [
    "# Simulación de precios usando rendimiento simple y logarítmico "
   ]
  },
  {
   "cell_type": "markdown",
   "metadata": {},
   "source": [
    "* Comenzaremos por suponer que los rendimientos son un p.e. estacionario que distribuyen $\\mathcal{N}(\\mu,\\sigma)$."
   ]
  },
  {
   "cell_type": "markdown",
   "metadata": {},
   "source": [
    "## Rendimiento Simple"
   ]
  },
  {
   "cell_type": "code",
   "execution_count": 16,
   "metadata": {
    "scrolled": false
   },
   "outputs": [
    {
     "data": {
      "text/html": [
       "<div>\n",
       "<style scoped>\n",
       "    .dataframe tbody tr th:only-of-type {\n",
       "        vertical-align: middle;\n",
       "    }\n",
       "\n",
       "    .dataframe tbody tr th {\n",
       "        vertical-align: top;\n",
       "    }\n",
       "\n",
       "    .dataframe thead th {\n",
       "        text-align: right;\n",
       "    }\n",
       "</style>\n",
       "<table border=\"1\" class=\"dataframe\">\n",
       "  <thead>\n",
       "    <tr style=\"text-align: right;\">\n",
       "      <th>Symbols</th>\n",
       "      <th>AAPL</th>\n",
       "    </tr>\n",
       "    <tr>\n",
       "      <th>Date</th>\n",
       "      <th></th>\n",
       "    </tr>\n",
       "  </thead>\n",
       "  <tbody>\n",
       "    <tr>\n",
       "      <th>2017-01-04</th>\n",
       "      <td>-1.119e-03</td>\n",
       "    </tr>\n",
       "    <tr>\n",
       "      <th>2017-01-05</th>\n",
       "      <td>5.086e-03</td>\n",
       "    </tr>\n",
       "    <tr>\n",
       "      <th>2017-01-06</th>\n",
       "      <td>1.115e-02</td>\n",
       "    </tr>\n",
       "    <tr>\n",
       "      <th>2017-01-09</th>\n",
       "      <td>9.159e-03</td>\n",
       "    </tr>\n",
       "    <tr>\n",
       "      <th>2017-01-10</th>\n",
       "      <td>1.009e-03</td>\n",
       "    </tr>\n",
       "    <tr>\n",
       "      <th>...</th>\n",
       "      <td>...</td>\n",
       "    </tr>\n",
       "    <tr>\n",
       "      <th>2021-11-10</th>\n",
       "      <td>-1.916e-02</td>\n",
       "    </tr>\n",
       "    <tr>\n",
       "      <th>2021-11-11</th>\n",
       "      <td>-3.380e-04</td>\n",
       "    </tr>\n",
       "    <tr>\n",
       "      <th>2021-11-12</th>\n",
       "      <td>1.434e-02</td>\n",
       "    </tr>\n",
       "    <tr>\n",
       "      <th>2021-11-15</th>\n",
       "      <td>6.663e-05</td>\n",
       "    </tr>\n",
       "    <tr>\n",
       "      <th>2021-11-16</th>\n",
       "      <td>6.667e-03</td>\n",
       "    </tr>\n",
       "  </tbody>\n",
       "</table>\n",
       "<p>1227 rows × 1 columns</p>\n",
       "</div>"
      ],
      "text/plain": [
       "Symbols          AAPL\n",
       "Date                 \n",
       "2017-01-04 -1.119e-03\n",
       "2017-01-05  5.086e-03\n",
       "2017-01-06  1.115e-02\n",
       "2017-01-09  9.159e-03\n",
       "2017-01-10  1.009e-03\n",
       "...               ...\n",
       "2021-11-10 -1.916e-02\n",
       "2021-11-11 -3.380e-04\n",
       "2021-11-12  1.434e-02\n",
       "2021-11-15  6.663e-05\n",
       "2021-11-16  6.667e-03\n",
       "\n",
       "[1227 rows x 1 columns]"
      ]
     },
     "execution_count": 16,
     "metadata": {},
     "output_type": "execute_result"
    }
   ],
   "source": [
    "# Obtenemos el rendimiento simple\n",
    "Ri = closes_aapl.pct_change(1).iloc[1:]\n",
    "# Obtenemos su media y desviación estándar de los rendimientos\n",
    "mu_R = Ri.mean()[0]\n",
    "sigma_R = Ri.std()[0]\n",
    "Ri"
   ]
  },
  {
   "cell_type": "code",
   "execution_count": 26,
   "metadata": {},
   "outputs": [
    {
     "data": {
      "text/plain": [
       "(DatetimeIndex(['2021-11-16', '2021-11-17', '2021-11-18', '2021-11-19',\n",
       "                '2021-11-22', '2021-11-23', '2021-11-24', '2021-11-25',\n",
       "                '2021-11-26', '2021-11-29', '2021-11-30', '2021-12-01',\n",
       "                '2021-12-02', '2021-12-03', '2021-12-06', '2021-12-07',\n",
       "                '2021-12-08', '2021-12-09', '2021-12-10', '2021-12-13',\n",
       "                '2021-12-14', '2021-12-15', '2021-12-16', '2021-12-17',\n",
       "                '2021-12-20', '2021-12-21', '2021-12-22', '2021-12-23',\n",
       "                '2021-12-24', '2021-12-27', '2021-12-28', '2021-12-29',\n",
       "                '2021-12-30', '2021-12-31', '2022-01-03', '2022-01-04',\n",
       "                '2022-01-05', '2022-01-06', '2022-01-07', '2022-01-10',\n",
       "                '2022-01-11', '2022-01-12', '2022-01-13', '2022-01-14',\n",
       "                '2022-01-17', '2022-01-18', '2022-01-19', '2022-01-20',\n",
       "                '2022-01-21', '2022-01-24', '2022-01-25', '2022-01-26',\n",
       "                '2022-01-27', '2022-01-28', '2022-01-31', '2022-02-01',\n",
       "                '2022-02-02', '2022-02-03', '2022-02-04', '2022-02-07',\n",
       "                '2022-02-08', '2022-02-09', '2022-02-10', '2022-02-11',\n",
       "                '2022-02-14', '2022-02-15', '2022-02-16', '2022-02-17',\n",
       "                '2022-02-18'],\n",
       "               dtype='datetime64[ns]', freq='B'),\n",
       " 69)"
      ]
     },
     "execution_count": 26,
     "metadata": {},
     "output_type": "execute_result"
    }
   ],
   "source": [
    "from datetime import date\n",
    "\n",
    "today = pd.Timestamp(date.today())\n",
    "expiry = '2022-02-18'\n",
    "\n",
    "nscen = 10000\n",
    "dates = pd.date_range(start=today, end=expiry, freq='B')\n",
    "ndays = len(dates)\n",
    "dates, ndays"
   ]
  },
  {
   "cell_type": "markdown",
   "metadata": {},
   "source": [
    "### Mostrar como simular precios usando los rendimientos"
   ]
  },
  {
   "cell_type": "code",
   "execution_count": 27,
   "metadata": {},
   "outputs": [
    {
     "data": {
      "text/html": [
       "<div>\n",
       "<style scoped>\n",
       "    .dataframe tbody tr th:only-of-type {\n",
       "        vertical-align: middle;\n",
       "    }\n",
       "\n",
       "    .dataframe tbody tr th {\n",
       "        vertical-align: top;\n",
       "    }\n",
       "\n",
       "    .dataframe thead th {\n",
       "        text-align: right;\n",
       "    }\n",
       "</style>\n",
       "<table border=\"1\" class=\"dataframe\">\n",
       "  <thead>\n",
       "    <tr style=\"text-align: right;\">\n",
       "      <th></th>\n",
       "      <th>0</th>\n",
       "      <th>1</th>\n",
       "      <th>2</th>\n",
       "      <th>...</th>\n",
       "      <th>9997</th>\n",
       "      <th>9998</th>\n",
       "      <th>9999</th>\n",
       "    </tr>\n",
       "  </thead>\n",
       "  <tbody>\n",
       "    <tr>\n",
       "      <th>2021-11-16</th>\n",
       "      <td>4.442e-02</td>\n",
       "      <td>2.853e-02</td>\n",
       "      <td>3.970e-02</td>\n",
       "      <td>...</td>\n",
       "      <td>-3.742e-02</td>\n",
       "      <td>2.116e-02</td>\n",
       "      <td>3.861e-02</td>\n",
       "    </tr>\n",
       "    <tr>\n",
       "      <th>2021-11-17</th>\n",
       "      <td>-5.112e-04</td>\n",
       "      <td>3.998e-04</td>\n",
       "      <td>7.133e-04</td>\n",
       "      <td>...</td>\n",
       "      <td>-1.078e-03</td>\n",
       "      <td>-5.691e-06</td>\n",
       "      <td>-7.152e-06</td>\n",
       "    </tr>\n",
       "    <tr>\n",
       "      <th>2021-11-18</th>\n",
       "      <td>-8.480e-06</td>\n",
       "      <td>-8.938e-06</td>\n",
       "      <td>1.700e-05</td>\n",
       "      <td>...</td>\n",
       "      <td>-5.998e-06</td>\n",
       "      <td>-9.030e-09</td>\n",
       "      <td>-1.166e-08</td>\n",
       "    </tr>\n",
       "    <tr>\n",
       "      <th>2021-11-19</th>\n",
       "      <td>3.361e-09</td>\n",
       "      <td>-4.224e-08</td>\n",
       "      <td>7.784e-08</td>\n",
       "      <td>...</td>\n",
       "      <td>-1.807e-09</td>\n",
       "      <td>1.073e-10</td>\n",
       "      <td>8.863e-11</td>\n",
       "    </tr>\n",
       "    <tr>\n",
       "      <th>2021-11-22</th>\n",
       "      <td>4.405e-11</td>\n",
       "      <td>2.202e-10</td>\n",
       "      <td>1.378e-09</td>\n",
       "      <td>...</td>\n",
       "      <td>-9.374e-11</td>\n",
       "      <td>1.061e-12</td>\n",
       "      <td>1.271e-12</td>\n",
       "    </tr>\n",
       "    <tr>\n",
       "      <th>...</th>\n",
       "      <td>...</td>\n",
       "      <td>...</td>\n",
       "      <td>...</td>\n",
       "      <td>...</td>\n",
       "      <td>...</td>\n",
       "      <td>...</td>\n",
       "      <td>...</td>\n",
       "    </tr>\n",
       "    <tr>\n",
       "      <th>2022-02-14</th>\n",
       "      <td>6.544e-134</td>\n",
       "      <td>2.585e-129</td>\n",
       "      <td>-3.254e-135</td>\n",
       "      <td>...</td>\n",
       "      <td>1.449e-134</td>\n",
       "      <td>9.529e-139</td>\n",
       "      <td>-2.972e-136</td>\n",
       "    </tr>\n",
       "    <tr>\n",
       "      <th>2022-02-15</th>\n",
       "      <td>-2.429e-135</td>\n",
       "      <td>5.602e-131</td>\n",
       "      <td>-4.650e-138</td>\n",
       "      <td>...</td>\n",
       "      <td>1.150e-136</td>\n",
       "      <td>2.946e-140</td>\n",
       "      <td>-7.269e-138</td>\n",
       "    </tr>\n",
       "    <tr>\n",
       "      <th>2022-02-16</th>\n",
       "      <td>-1.028e-136</td>\n",
       "      <td>2.802e-132</td>\n",
       "      <td>5.501e-140</td>\n",
       "      <td>...</td>\n",
       "      <td>-1.021e-139</td>\n",
       "      <td>2.218e-142</td>\n",
       "      <td>1.841e-140</td>\n",
       "    </tr>\n",
       "    <tr>\n",
       "      <th>2022-02-17</th>\n",
       "      <td>-5.176e-140</td>\n",
       "      <td>-2.366e-134</td>\n",
       "      <td>9.655e-142</td>\n",
       "      <td>...</td>\n",
       "      <td>1.750e-141</td>\n",
       "      <td>7.392e-144</td>\n",
       "      <td>1.728e-142</td>\n",
       "    </tr>\n",
       "    <tr>\n",
       "      <th>2022-02-18</th>\n",
       "      <td>-7.749e-142</td>\n",
       "      <td>-1.737e-136</td>\n",
       "      <td>-9.529e-144</td>\n",
       "      <td>...</td>\n",
       "      <td>6.964e-144</td>\n",
       "      <td>1.952e-145</td>\n",
       "      <td>2.450e-144</td>\n",
       "    </tr>\n",
       "  </tbody>\n",
       "</table>\n",
       "<p>69 rows × 10000 columns</p>\n",
       "</div>"
      ],
      "text/plain": [
       "                  0           1           2     ...        9997        9998  \\\n",
       "2021-11-16   4.442e-02   2.853e-02   3.970e-02  ...  -3.742e-02   2.116e-02   \n",
       "2021-11-17  -5.112e-04   3.998e-04   7.133e-04  ...  -1.078e-03  -5.691e-06   \n",
       "2021-11-18  -8.480e-06  -8.938e-06   1.700e-05  ...  -5.998e-06  -9.030e-09   \n",
       "2021-11-19   3.361e-09  -4.224e-08   7.784e-08  ...  -1.807e-09   1.073e-10   \n",
       "2021-11-22   4.405e-11   2.202e-10   1.378e-09  ...  -9.374e-11   1.061e-12   \n",
       "...                ...         ...         ...  ...         ...         ...   \n",
       "2022-02-14  6.544e-134  2.585e-129 -3.254e-135  ...  1.449e-134  9.529e-139   \n",
       "2022-02-15 -2.429e-135  5.602e-131 -4.650e-138  ...  1.150e-136  2.946e-140   \n",
       "2022-02-16 -1.028e-136  2.802e-132  5.501e-140  ... -1.021e-139  2.218e-142   \n",
       "2022-02-17 -5.176e-140 -2.366e-134  9.655e-142  ...  1.750e-141  7.392e-144   \n",
       "2022-02-18 -7.749e-142 -1.737e-136 -9.529e-144  ...  6.964e-144  1.952e-145   \n",
       "\n",
       "                  9999  \n",
       "2021-11-16   3.861e-02  \n",
       "2021-11-17  -7.152e-06  \n",
       "2021-11-18  -1.166e-08  \n",
       "2021-11-19   8.863e-11  \n",
       "2021-11-22   1.271e-12  \n",
       "...                ...  \n",
       "2022-02-14 -2.972e-136  \n",
       "2022-02-15 -7.269e-138  \n",
       "2022-02-16  1.841e-140  \n",
       "2022-02-17  1.728e-142  \n",
       "2022-02-18  2.450e-144  \n",
       "\n",
       "[69 rows x 10000 columns]"
      ]
     },
     "execution_count": 27,
     "metadata": {},
     "output_type": "execute_result"
    }
   ],
   "source": [
    "dt = 1; # Rendimiento diario \n",
    "Z = np.random.randn(ndays,nscen)  # Z ~ N(0,1)\n",
    "# Simulación normal de los rendimientos\n",
    "Ri_dt = pd.DataFrame(mu_R*dt+Z*sigma_R*np.sqrt(dt),index=dates)\n",
    "Ri_dt.cumprod()"
   ]
  },
  {
   "cell_type": "code",
   "execution_count": 28,
   "metadata": {},
   "outputs": [],
   "source": [
    "# Simulación del precio\n",
    "S_0 = closes_aapl.iloc[-1,0]\n",
    "S_T = S_0*(1+Ri_dt).cumprod()\n",
    "\n",
    "# Se muestran los precios simulados con los precios descargados\n",
    "# pd.concat([closes_aapl,S_T]).plot(figsize=(8,6));\n",
    "# plt.title('Simulación de precios usando rendimiento simple');"
   ]
  },
  {
   "cell_type": "markdown",
   "metadata": {},
   "source": [
    "## Rendimiento Logarítmico"
   ]
  },
  {
   "cell_type": "code",
   "execution_count": 29,
   "metadata": {},
   "outputs": [
    {
     "data": {
      "text/plain": [
       "0.18803805084393715"
      ]
     },
     "execution_count": 29,
     "metadata": {},
     "output_type": "execute_result"
    }
   ],
   "source": [
    "ri = calc_daily_ret(closes_aapl)\n",
    "# Usando la media y desviación estándar de los rendimientos logarítmicos\n",
    "mu_r = ri.mean()[0]\n",
    "sigma_r = ri.std()[0]\n",
    "\n",
    "# # Usando la equivalencia teórica\n",
    "# mu_r2 = mu_R - (sigma_R**2)/2\n",
    "\n",
    "sim_ret_ri = pd.DataFrame(mu_r*dt+Z*sigma_r*np.sqrt(dt), index=dates)\n",
    "\n",
    "# Simulación del precio\n",
    "S_0 = closes_aapl.iloc[-1,0]\n",
    "S_T2 = S_0*np.exp(sim_ret_ri.cumsum())\n",
    "\n",
    "# Se muestran los precios simulados con los precios descargados\n",
    "# pd.concat([closes_aapl,S_T2]).plot(figsize=(8,6));\n",
    "# plt.title('Simulación de precios usando rendimiento logarítmico');\n",
    "\n",
    "# from sklearn.metrics import mean_absolute_error\n",
    "e1 = np.abs(S_T-S_T2).mean().mean()\n",
    "e1"
   ]
  },
  {
   "cell_type": "code",
   "execution_count": 34,
   "metadata": {},
   "outputs": [
    {
     "data": {
      "text/html": [
       "<div>\n",
       "<style scoped>\n",
       "    .dataframe tbody tr th:only-of-type {\n",
       "        vertical-align: middle;\n",
       "    }\n",
       "\n",
       "    .dataframe tbody tr th {\n",
       "        vertical-align: top;\n",
       "    }\n",
       "\n",
       "    .dataframe thead th {\n",
       "        text-align: right;\n",
       "    }\n",
       "</style>\n",
       "<table border=\"1\" class=\"dataframe\">\n",
       "  <thead>\n",
       "    <tr style=\"text-align: right;\">\n",
       "      <th></th>\n",
       "      <th>0</th>\n",
       "      <th>1</th>\n",
       "      <th>2</th>\n",
       "      <th>...</th>\n",
       "      <th>9997</th>\n",
       "      <th>9998</th>\n",
       "      <th>9999</th>\n",
       "    </tr>\n",
       "  </thead>\n",
       "  <tbody>\n",
       "    <tr>\n",
       "      <th>2021-11-16</th>\n",
       "      <td>151.000</td>\n",
       "      <td>151.000</td>\n",
       "      <td>151.000</td>\n",
       "      <td>...</td>\n",
       "      <td>151.000</td>\n",
       "      <td>151.000</td>\n",
       "      <td>151.000</td>\n",
       "    </tr>\n",
       "    <tr>\n",
       "      <th>2021-11-17</th>\n",
       "      <td>155.999</td>\n",
       "      <td>157.510</td>\n",
       "      <td>159.912</td>\n",
       "      <td>...</td>\n",
       "      <td>149.647</td>\n",
       "      <td>154.133</td>\n",
       "      <td>156.863</td>\n",
       "    </tr>\n",
       "    <tr>\n",
       "      <th>2021-11-18</th>\n",
       "      <td>158.581</td>\n",
       "      <td>153.995</td>\n",
       "      <td>163.742</td>\n",
       "      <td>...</td>\n",
       "      <td>150.454</td>\n",
       "      <td>154.349</td>\n",
       "      <td>157.089</td>\n",
       "    </tr>\n",
       "    <tr>\n",
       "      <th>2021-11-19</th>\n",
       "      <td>158.489</td>\n",
       "      <td>154.697</td>\n",
       "      <td>164.463</td>\n",
       "      <td>...</td>\n",
       "      <td>150.472</td>\n",
       "      <td>152.496</td>\n",
       "      <td>155.870</td>\n",
       "    </tr>\n",
       "    <tr>\n",
       "      <th>2021-11-22</th>\n",
       "      <td>160.552</td>\n",
       "      <td>153.863</td>\n",
       "      <td>167.373</td>\n",
       "      <td>...</td>\n",
       "      <td>158.462</td>\n",
       "      <td>153.984</td>\n",
       "      <td>158.094</td>\n",
       "    </tr>\n",
       "    <tr>\n",
       "      <th>...</th>\n",
       "      <td>...</td>\n",
       "      <td>...</td>\n",
       "      <td>...</td>\n",
       "      <td>...</td>\n",
       "      <td>...</td>\n",
       "      <td>...</td>\n",
       "      <td>...</td>\n",
       "    </tr>\n",
       "    <tr>\n",
       "      <th>2022-02-14</th>\n",
       "      <td>160.794</td>\n",
       "      <td>165.844</td>\n",
       "      <td>177.467</td>\n",
       "      <td>...</td>\n",
       "      <td>140.548</td>\n",
       "      <td>167.921</td>\n",
       "      <td>158.350</td>\n",
       "    </tr>\n",
       "    <tr>\n",
       "      <th>2022-02-15</th>\n",
       "      <td>154.902</td>\n",
       "      <td>169.449</td>\n",
       "      <td>177.688</td>\n",
       "      <td>...</td>\n",
       "      <td>141.643</td>\n",
       "      <td>173.166</td>\n",
       "      <td>162.244</td>\n",
       "    </tr>\n",
       "    <tr>\n",
       "      <th>2022-02-16</th>\n",
       "      <td>161.574</td>\n",
       "      <td>178.116</td>\n",
       "      <td>175.564</td>\n",
       "      <td>...</td>\n",
       "      <td>141.491</td>\n",
       "      <td>174.443</td>\n",
       "      <td>161.802</td>\n",
       "    </tr>\n",
       "    <tr>\n",
       "      <th>2022-02-17</th>\n",
       "      <td>161.625</td>\n",
       "      <td>176.584</td>\n",
       "      <td>178.642</td>\n",
       "      <td>...</td>\n",
       "      <td>139.058</td>\n",
       "      <td>180.326</td>\n",
       "      <td>163.299</td>\n",
       "    </tr>\n",
       "    <tr>\n",
       "      <th>2022-02-18</th>\n",
       "      <td>164.034</td>\n",
       "      <td>177.854</td>\n",
       "      <td>176.853</td>\n",
       "      <td>...</td>\n",
       "      <td>139.587</td>\n",
       "      <td>185.121</td>\n",
       "      <td>165.603</td>\n",
       "    </tr>\n",
       "  </tbody>\n",
       "</table>\n",
       "<p>69 rows × 10000 columns</p>\n",
       "</div>"
      ],
      "text/plain": [
       "               0        1        2     ...     9997     9998     9999\n",
       "2021-11-16  151.000  151.000  151.000  ...  151.000  151.000  151.000\n",
       "2021-11-17  155.999  157.510  159.912  ...  149.647  154.133  156.863\n",
       "2021-11-18  158.581  153.995  163.742  ...  150.454  154.349  157.089\n",
       "2021-11-19  158.489  154.697  164.463  ...  150.472  152.496  155.870\n",
       "2021-11-22  160.552  153.863  167.373  ...  158.462  153.984  158.094\n",
       "...             ...      ...      ...  ...      ...      ...      ...\n",
       "2022-02-14  160.794  165.844  177.467  ...  140.548  167.921  158.350\n",
       "2022-02-15  154.902  169.449  177.688  ...  141.643  173.166  162.244\n",
       "2022-02-16  161.574  178.116  175.564  ...  141.491  174.443  161.802\n",
       "2022-02-17  161.625  176.584  178.642  ...  139.058  180.326  163.299\n",
       "2022-02-18  164.034  177.854  176.853  ...  139.587  185.121  165.603\n",
       "\n",
       "[69 rows x 10000 columns]"
      ]
     },
     "execution_count": 34,
     "metadata": {},
     "output_type": "execute_result"
    }
   ],
   "source": [
    "S_T2.iloc[0, :] = closes_aapl.iloc[-1]\n",
    "S_T2"
   ]
  },
  {
   "cell_type": "code",
   "execution_count": null,
   "metadata": {},
   "outputs": [],
   "source": [
    "print('Las std usando rendimientos logarítmicos y simples son similares')\n",
    "sigma_R,sigma_r"
   ]
  },
  {
   "cell_type": "markdown",
   "metadata": {},
   "source": [
    "Con los precios simulados debemos de encontrar el valor de la opción según la función de pago correspondiente. Para este caso es:\n",
    "$$\n",
    "max(S_T - K,0)\n",
    "$$"
   ]
  },
  {
   "cell_type": "code",
   "execution_count": 35,
   "metadata": {},
   "outputs": [
    {
     "data": {
      "text/plain": [
       "Prima    19.715\n",
       "Name: 2022-02-18 00:00:00, dtype: float64"
      ]
     },
     "execution_count": 35,
     "metadata": {},
     "output_type": "execute_result"
    },
    {
     "data": {
      "image/png": "[encoded data removed]",
      "text/plain": [
       "<Figure size 432x288 with 1 Axes>"
      ]
     },
     "metadata": {},
     "output_type": "display_data"
    }
   ],
   "source": [
    "strike = 150\n",
    "call = pd.DataFrame({'Prima':np.exp(-mu_r*ndays) \\\n",
    "              *np.fmax(S_T2-strike, 0).mean(axis=1)}, index=dates)\n",
    "call.plot();\n",
    "call.iloc[-1]"
   ]
  },
  {
   "cell_type": "markdown",
   "metadata": {},
   "source": [
    "## 2. Valuación usando simulación: modelo normal para los rendimientos"
   ]
  },
  {
   "cell_type": "markdown",
   "metadata": {},
   "source": [
    "- Hallar media y desviación estándar muestral de los rendimientos logarítmicos"
   ]
  },
  {
   "cell_type": "code",
   "execution_count": 36,
   "metadata": {
    "scrolled": true
   },
   "outputs": [
    {
     "data": {
      "text/plain": [
       "(0.0013929946181651302, 0.019212097358561372)"
      ]
     },
     "execution_count": 36,
     "metadata": {},
     "output_type": "execute_result"
    }
   ],
   "source": [
    "mu = ret_aapl.mean()[0]\n",
    "sigma = ret_aapl.std()[0]\n",
    "mu, sigma"
   ]
  },
  {
   "cell_type": "markdown",
   "metadata": {},
   "source": [
    "No se toma la media sino la tasa libre de riesgo\n",
    "> Referencia: https://www.treasury.gov/resource-center/data-chart-center/interest-rates/Pages/TextView.aspx?data=yield"
   ]
  },
  {
   "cell_type": "code",
   "execution_count": 37,
   "metadata": {},
   "outputs": [],
   "source": [
    "# Tasa de bonos de 1 yr de fecha 30/04/20 -> 0.16%\n",
    "r = 0.0017/360 # Tasa diaria"
   ]
  },
  {
   "cell_type": "markdown",
   "metadata": {},
   "source": [
    "- Simularemos el tiempo de contrato desde `HOY` hasta la fecha de `Expiry`, 10 escenarios:\n",
    "    \n",
    "    - Generar fechas"
   ]
  },
  {
   "cell_type": "code",
   "execution_count": 43,
   "metadata": {},
   "outputs": [
    {
     "data": {
      "text/plain": [
       "DatetimeIndex(['2021-11-16', '2021-11-17', '2021-11-18', '2021-11-19',\n",
       "               '2021-11-22', '2021-11-23', '2021-11-24', '2021-11-25',\n",
       "               '2021-11-26', '2021-11-29', '2021-11-30', '2021-12-01',\n",
       "               '2021-12-02', '2021-12-03', '2021-12-06', '2021-12-07',\n",
       "               '2021-12-08', '2021-12-09', '2021-12-10', '2021-12-13',\n",
       "               '2021-12-14', '2021-12-15', '2021-12-16', '2021-12-17',\n",
       "               '2021-12-20', '2021-12-21', '2021-12-22', '2021-12-23',\n",
       "               '2021-12-24', '2021-12-27', '2021-12-28', '2021-12-29',\n",
       "               '2021-12-30', '2021-12-31', '2022-01-03', '2022-01-04',\n",
       "               '2022-01-05', '2022-01-06', '2022-01-07', '2022-01-10',\n",
       "               '2022-01-11', '2022-01-12', '2022-01-13', '2022-01-14',\n",
       "               '2022-01-17', '2022-01-18', '2022-01-19', '2022-01-20',\n",
       "               '2022-01-21', '2022-01-24', '2022-01-25', '2022-01-26',\n",
       "               '2022-01-27', '2022-01-28', '2022-01-31', '2022-02-01',\n",
       "               '2022-02-02', '2022-02-03', '2022-02-04', '2022-02-07',\n",
       "               '2022-02-08', '2022-02-09', '2022-02-10', '2022-02-11',\n",
       "               '2022-02-14', '2022-02-15', '2022-02-16', '2022-02-17',\n",
       "               '2022-02-18'],\n",
       "              dtype='datetime64[ns]', freq='B')"
      ]
     },
     "execution_count": 43,
     "metadata": {},
     "output_type": "execute_result"
    }
   ],
   "source": [
    "from datetime import date\n",
    "\n",
    "today = pd.Timestamp(date.today())\n",
    "expiry = pd.to_datetime('2022-02-18')\n",
    "\n",
    "nscen = 10\n",
    "dates = pd.date_range(start=today, end = expiry, freq='B')\n",
    "ndays = len(dates)\n",
    "dates"
   ]
  },
  {
   "cell_type": "markdown",
   "metadata": {},
   "source": [
    "- Generamos 10 escenarios de rendimientos simulados y guardamos en un dataframe"
   ]
  },
  {
   "cell_type": "code",
   "execution_count": 44,
   "metadata": {
    "scrolled": false
   },
   "outputs": [
    {
     "data": {
      "text/html": [
       "<div>\n",
       "<style scoped>\n",
       "    .dataframe tbody tr th:only-of-type {\n",
       "        vertical-align: middle;\n",
       "    }\n",
       "\n",
       "    .dataframe tbody tr th {\n",
       "        vertical-align: top;\n",
       "    }\n",
       "\n",
       "    .dataframe thead th {\n",
       "        text-align: right;\n",
       "    }\n",
       "</style>\n",
       "<table border=\"1\" class=\"dataframe\">\n",
       "  <thead>\n",
       "    <tr style=\"text-align: right;\">\n",
       "      <th></th>\n",
       "      <th>0</th>\n",
       "      <th>1</th>\n",
       "      <th>2</th>\n",
       "      <th>...</th>\n",
       "      <th>7</th>\n",
       "      <th>8</th>\n",
       "      <th>9</th>\n",
       "    </tr>\n",
       "  </thead>\n",
       "  <tbody>\n",
       "    <tr>\n",
       "      <th>2021-11-16</th>\n",
       "      <td>0.004</td>\n",
       "      <td>0.005</td>\n",
       "      <td>-0.032</td>\n",
       "      <td>...</td>\n",
       "      <td>0.006</td>\n",
       "      <td>0.011</td>\n",
       "      <td>7.060e-03</td>\n",
       "    </tr>\n",
       "    <tr>\n",
       "      <th>2021-11-17</th>\n",
       "      <td>-0.007</td>\n",
       "      <td>-0.016</td>\n",
       "      <td>-0.012</td>\n",
       "      <td>...</td>\n",
       "      <td>0.025</td>\n",
       "      <td>0.022</td>\n",
       "      <td>3.430e-02</td>\n",
       "    </tr>\n",
       "    <tr>\n",
       "      <th>2021-11-18</th>\n",
       "      <td>-0.025</td>\n",
       "      <td>0.016</td>\n",
       "      <td>-0.027</td>\n",
       "      <td>...</td>\n",
       "      <td>0.017</td>\n",
       "      <td>0.002</td>\n",
       "      <td>-3.058e-04</td>\n",
       "    </tr>\n",
       "    <tr>\n",
       "      <th>2021-11-19</th>\n",
       "      <td>-0.016</td>\n",
       "      <td>0.028</td>\n",
       "      <td>-0.038</td>\n",
       "      <td>...</td>\n",
       "      <td>0.002</td>\n",
       "      <td>-0.023</td>\n",
       "      <td>-1.804e-02</td>\n",
       "    </tr>\n",
       "    <tr>\n",
       "      <th>2021-11-22</th>\n",
       "      <td>-0.026</td>\n",
       "      <td>0.006</td>\n",
       "      <td>-0.044</td>\n",
       "      <td>...</td>\n",
       "      <td>-0.038</td>\n",
       "      <td>-0.027</td>\n",
       "      <td>-1.444e-02</td>\n",
       "    </tr>\n",
       "    <tr>\n",
       "      <th>...</th>\n",
       "      <td>...</td>\n",
       "      <td>...</td>\n",
       "      <td>...</td>\n",
       "      <td>...</td>\n",
       "      <td>...</td>\n",
       "      <td>...</td>\n",
       "      <td>...</td>\n",
       "    </tr>\n",
       "    <tr>\n",
       "      <th>2022-02-14</th>\n",
       "      <td>-0.366</td>\n",
       "      <td>0.159</td>\n",
       "      <td>0.077</td>\n",
       "      <td>...</td>\n",
       "      <td>-0.317</td>\n",
       "      <td>-0.336</td>\n",
       "      <td>-1.136e-01</td>\n",
       "    </tr>\n",
       "    <tr>\n",
       "      <th>2022-02-15</th>\n",
       "      <td>-0.341</td>\n",
       "      <td>0.127</td>\n",
       "      <td>0.082</td>\n",
       "      <td>...</td>\n",
       "      <td>-0.322</td>\n",
       "      <td>-0.349</td>\n",
       "      <td>-9.405e-02</td>\n",
       "    </tr>\n",
       "    <tr>\n",
       "      <th>2022-02-16</th>\n",
       "      <td>-0.349</td>\n",
       "      <td>0.138</td>\n",
       "      <td>0.090</td>\n",
       "      <td>...</td>\n",
       "      <td>-0.331</td>\n",
       "      <td>-0.317</td>\n",
       "      <td>-1.137e-01</td>\n",
       "    </tr>\n",
       "    <tr>\n",
       "      <th>2022-02-17</th>\n",
       "      <td>-0.349</td>\n",
       "      <td>0.117</td>\n",
       "      <td>0.066</td>\n",
       "      <td>...</td>\n",
       "      <td>-0.341</td>\n",
       "      <td>-0.301</td>\n",
       "      <td>-1.129e-01</td>\n",
       "    </tr>\n",
       "    <tr>\n",
       "      <th>2022-02-18</th>\n",
       "      <td>-0.337</td>\n",
       "      <td>0.104</td>\n",
       "      <td>0.080</td>\n",
       "      <td>...</td>\n",
       "      <td>-0.336</td>\n",
       "      <td>-0.325</td>\n",
       "      <td>-1.268e-01</td>\n",
       "    </tr>\n",
       "  </tbody>\n",
       "</table>\n",
       "<p>69 rows × 10 columns</p>\n",
       "</div>"
      ],
      "text/plain": [
       "                0      1      2  ...      7      8          9\n",
       "2021-11-16  0.004  0.005 -0.032  ...  0.006  0.011  7.060e-03\n",
       "2021-11-17 -0.007 -0.016 -0.012  ...  0.025  0.022  3.430e-02\n",
       "2021-11-18 -0.025  0.016 -0.027  ...  0.017  0.002 -3.058e-04\n",
       "2021-11-19 -0.016  0.028 -0.038  ...  0.002 -0.023 -1.804e-02\n",
       "2021-11-22 -0.026  0.006 -0.044  ... -0.038 -0.027 -1.444e-02\n",
       "...           ...    ...    ...  ...    ...    ...        ...\n",
       "2022-02-14 -0.366  0.159  0.077  ... -0.317 -0.336 -1.136e-01\n",
       "2022-02-15 -0.341  0.127  0.082  ... -0.322 -0.349 -9.405e-02\n",
       "2022-02-16 -0.349  0.138  0.090  ... -0.331 -0.317 -1.137e-01\n",
       "2022-02-17 -0.349  0.117  0.066  ... -0.341 -0.301 -1.129e-01\n",
       "2022-02-18 -0.337  0.104  0.080  ... -0.336 -0.325 -1.268e-01\n",
       "\n",
       "[69 rows x 10 columns]"
      ]
     },
     "execution_count": 44,
     "metadata": {},
     "output_type": "execute_result"
    }
   ],
   "source": [
    "sim_ret = pd.DataFrame(sigma*np.random.randn(ndays,nscen)+r, index=dates)\n",
    "sim_ret.cumsum()\n",
    "# Las columnas son los escenarios y las filas son las días de contrato"
   ]
  },
  {
   "cell_type": "markdown",
   "metadata": {},
   "source": [
    "- Con los rendimientos simulados, calcular los escenarios de precios respectivos:"
   ]
  },
  {
   "cell_type": "code",
   "execution_count": 45,
   "metadata": {},
   "outputs": [
    {
     "data": {
      "text/html": [
       "<div>\n",
       "<style scoped>\n",
       "    .dataframe tbody tr th:only-of-type {\n",
       "        vertical-align: middle;\n",
       "    }\n",
       "\n",
       "    .dataframe tbody tr th {\n",
       "        vertical-align: top;\n",
       "    }\n",
       "\n",
       "    .dataframe thead th {\n",
       "        text-align: right;\n",
       "    }\n",
       "</style>\n",
       "<table border=\"1\" class=\"dataframe\">\n",
       "  <thead>\n",
       "    <tr style=\"text-align: right;\">\n",
       "      <th></th>\n",
       "      <th>0</th>\n",
       "      <th>1</th>\n",
       "      <th>2</th>\n",
       "      <th>...</th>\n",
       "      <th>7</th>\n",
       "      <th>8</th>\n",
       "      <th>9</th>\n",
       "    </tr>\n",
       "  </thead>\n",
       "  <tbody>\n",
       "    <tr>\n",
       "      <th>2021-11-16</th>\n",
       "      <td>151.531</td>\n",
       "      <td>151.684</td>\n",
       "      <td>146.262</td>\n",
       "      <td>...</td>\n",
       "      <td>151.956</td>\n",
       "      <td>152.612</td>\n",
       "      <td>152.070</td>\n",
       "    </tr>\n",
       "    <tr>\n",
       "      <th>2021-11-17</th>\n",
       "      <td>149.989</td>\n",
       "      <td>148.635</td>\n",
       "      <td>149.182</td>\n",
       "      <td>...</td>\n",
       "      <td>154.788</td>\n",
       "      <td>154.403</td>\n",
       "      <td>156.268</td>\n",
       "    </tr>\n",
       "    <tr>\n",
       "      <th>2021-11-18</th>\n",
       "      <td>147.247</td>\n",
       "      <td>153.408</td>\n",
       "      <td>146.995</td>\n",
       "      <td>...</td>\n",
       "      <td>153.646</td>\n",
       "      <td>151.273</td>\n",
       "      <td>150.954</td>\n",
       "    </tr>\n",
       "    <tr>\n",
       "      <th>2021-11-19</th>\n",
       "      <td>148.617</td>\n",
       "      <td>155.361</td>\n",
       "      <td>145.404</td>\n",
       "      <td>...</td>\n",
       "      <td>151.256</td>\n",
       "      <td>147.629</td>\n",
       "      <td>148.300</td>\n",
       "    </tr>\n",
       "    <tr>\n",
       "      <th>2021-11-22</th>\n",
       "      <td>147.148</td>\n",
       "      <td>151.962</td>\n",
       "      <td>144.550</td>\n",
       "      <td>...</td>\n",
       "      <td>145.380</td>\n",
       "      <td>146.971</td>\n",
       "      <td>148.835</td>\n",
       "    </tr>\n",
       "    <tr>\n",
       "      <th>...</th>\n",
       "      <td>...</td>\n",
       "      <td>...</td>\n",
       "      <td>...</td>\n",
       "      <td>...</td>\n",
       "      <td>...</td>\n",
       "      <td>...</td>\n",
       "      <td>...</td>\n",
       "    </tr>\n",
       "    <tr>\n",
       "      <th>2022-02-14</th>\n",
       "      <td>104.752</td>\n",
       "      <td>177.021</td>\n",
       "      <td>163.110</td>\n",
       "      <td>...</td>\n",
       "      <td>109.964</td>\n",
       "      <td>107.952</td>\n",
       "      <td>134.782</td>\n",
       "    </tr>\n",
       "    <tr>\n",
       "      <th>2022-02-15</th>\n",
       "      <td>107.336</td>\n",
       "      <td>171.442</td>\n",
       "      <td>163.822</td>\n",
       "      <td>...</td>\n",
       "      <td>109.454</td>\n",
       "      <td>106.524</td>\n",
       "      <td>137.446</td>\n",
       "    </tr>\n",
       "    <tr>\n",
       "      <th>2022-02-16</th>\n",
       "      <td>106.475</td>\n",
       "      <td>173.335</td>\n",
       "      <td>165.226</td>\n",
       "      <td>...</td>\n",
       "      <td>108.463</td>\n",
       "      <td>109.967</td>\n",
       "      <td>134.766</td>\n",
       "    </tr>\n",
       "    <tr>\n",
       "      <th>2022-02-17</th>\n",
       "      <td>106.546</td>\n",
       "      <td>169.694</td>\n",
       "      <td>161.230</td>\n",
       "      <td>...</td>\n",
       "      <td>107.422</td>\n",
       "      <td>111.727</td>\n",
       "      <td>134.880</td>\n",
       "    </tr>\n",
       "    <tr>\n",
       "      <th>2022-02-18</th>\n",
       "      <td>107.753</td>\n",
       "      <td>167.618</td>\n",
       "      <td>163.502</td>\n",
       "      <td>...</td>\n",
       "      <td>107.907</td>\n",
       "      <td>109.098</td>\n",
       "      <td>133.023</td>\n",
       "    </tr>\n",
       "  </tbody>\n",
       "</table>\n",
       "<p>69 rows × 10 columns</p>\n",
       "</div>"
      ],
      "text/plain": [
       "                  0        1        2  ...        7        8        9\n",
       "2021-11-16  151.531  151.684  146.262  ...  151.956  152.612  152.070\n",
       "2021-11-17  149.989  148.635  149.182  ...  154.788  154.403  156.268\n",
       "2021-11-18  147.247  153.408  146.995  ...  153.646  151.273  150.954\n",
       "2021-11-19  148.617  155.361  145.404  ...  151.256  147.629  148.300\n",
       "2021-11-22  147.148  151.962  144.550  ...  145.380  146.971  148.835\n",
       "...             ...      ...      ...  ...      ...      ...      ...\n",
       "2022-02-14  104.752  177.021  163.110  ...  109.964  107.952  134.782\n",
       "2022-02-15  107.336  171.442  163.822  ...  109.454  106.524  137.446\n",
       "2022-02-16  106.475  173.335  165.226  ...  108.463  109.967  134.766\n",
       "2022-02-17  106.546  169.694  161.230  ...  107.422  111.727  134.880\n",
       "2022-02-18  107.753  167.618  163.502  ...  107.907  109.098  133.023\n",
       "\n",
       "[69 rows x 10 columns]"
      ]
     },
     "execution_count": 45,
     "metadata": {},
     "output_type": "execute_result"
    }
   ],
   "source": [
    "S0 = closes_aapl.iloc[-1,0]  # Condición inicial del precio a simular\n",
    "sim_closes = S0*np.exp(sim_ret.cumsum())\n",
    "sim_closes"
   ]
  },
  {
   "cell_type": "markdown",
   "metadata": {},
   "source": [
    "- Graficar:"
   ]
  },
  {
   "cell_type": "code",
   "execution_count": 46,
   "metadata": {},
   "outputs": [
    {
     "data": {
      "image/png": "[encoded data removed]",
      "text/plain": [
       "<Figure size 576x432 with 1 Axes>"
      ]
     },
     "metadata": {},
     "output_type": "display_data"
    }
   ],
   "source": [
    "sim_closes.plot(figsize=(8,6));"
   ]
  },
  {
   "cell_type": "code",
   "execution_count": 47,
   "metadata": {
    "scrolled": false
   },
   "outputs": [
    {
     "data": {
      "image/png": "[encoded data removed]",
      "text/plain": [
       "<Figure size 576x432 with 1 Axes>"
      ]
     },
     "metadata": {},
     "output_type": "display_data"
    }
   ],
   "source": [
    "# Se muestran los precios simulados con los precios descargados\n",
    "pd.concat([closes_aapl,sim_closes]).plot(figsize=(8,6));"
   ]
  },
  {
   "cell_type": "code",
   "execution_count": null,
   "metadata": {
    "scrolled": false
   },
   "outputs": [],
   "source": [
    "opcion_valuar['JSON']"
   ]
  },
  {
   "cell_type": "code",
   "execution_count": null,
   "metadata": {},
   "outputs": [],
   "source": [
    "sigma = 0.27719839019775383/np.sqrt(252)\n",
    "sigma"
   ]
  },
  {
   "cell_type": "code",
   "execution_count": 51,
   "metadata": {},
   "outputs": [
    {
     "data": {
      "text/html": [
       "<div>\n",
       "<style scoped>\n",
       "    .dataframe tbody tr th:only-of-type {\n",
       "        vertical-align: middle;\n",
       "    }\n",
       "\n",
       "    .dataframe tbody tr th {\n",
       "        vertical-align: top;\n",
       "    }\n",
       "\n",
       "    .dataframe thead th {\n",
       "        text-align: right;\n",
       "    }\n",
       "</style>\n",
       "<table border=\"1\" class=\"dataframe\">\n",
       "  <thead>\n",
       "    <tr style=\"text-align: right;\">\n",
       "      <th></th>\n",
       "      <th>0</th>\n",
       "      <th>1</th>\n",
       "      <th>2</th>\n",
       "      <th>...</th>\n",
       "      <th>99997</th>\n",
       "      <th>99998</th>\n",
       "      <th>99999</th>\n",
       "    </tr>\n",
       "  </thead>\n",
       "  <tbody>\n",
       "    <tr>\n",
       "      <th>2021-11-16</th>\n",
       "      <td>153.973</td>\n",
       "      <td>150.233</td>\n",
       "      <td>153.749</td>\n",
       "      <td>...</td>\n",
       "      <td>148.827</td>\n",
       "      <td>152.062</td>\n",
       "      <td>148.761</td>\n",
       "    </tr>\n",
       "    <tr>\n",
       "      <th>2021-11-17</th>\n",
       "      <td>154.767</td>\n",
       "      <td>151.719</td>\n",
       "      <td>146.260</td>\n",
       "      <td>...</td>\n",
       "      <td>147.738</td>\n",
       "      <td>150.536</td>\n",
       "      <td>149.072</td>\n",
       "    </tr>\n",
       "    <tr>\n",
       "      <th>2021-11-18</th>\n",
       "      <td>157.714</td>\n",
       "      <td>148.913</td>\n",
       "      <td>142.909</td>\n",
       "      <td>...</td>\n",
       "      <td>145.461</td>\n",
       "      <td>150.325</td>\n",
       "      <td>149.703</td>\n",
       "    </tr>\n",
       "    <tr>\n",
       "      <th>2021-11-19</th>\n",
       "      <td>161.445</td>\n",
       "      <td>149.797</td>\n",
       "      <td>140.593</td>\n",
       "      <td>...</td>\n",
       "      <td>145.369</td>\n",
       "      <td>148.745</td>\n",
       "      <td>150.188</td>\n",
       "    </tr>\n",
       "    <tr>\n",
       "      <th>2021-11-20</th>\n",
       "      <td>167.676</td>\n",
       "      <td>150.889</td>\n",
       "      <td>139.683</td>\n",
       "      <td>...</td>\n",
       "      <td>146.704</td>\n",
       "      <td>148.350</td>\n",
       "      <td>147.633</td>\n",
       "    </tr>\n",
       "    <tr>\n",
       "      <th>...</th>\n",
       "      <td>...</td>\n",
       "      <td>...</td>\n",
       "      <td>...</td>\n",
       "      <td>...</td>\n",
       "      <td>...</td>\n",
       "      <td>...</td>\n",
       "      <td>...</td>\n",
       "    </tr>\n",
       "    <tr>\n",
       "      <th>2022-01-19</th>\n",
       "      <td>151.669</td>\n",
       "      <td>138.373</td>\n",
       "      <td>111.242</td>\n",
       "      <td>...</td>\n",
       "      <td>157.444</td>\n",
       "      <td>125.007</td>\n",
       "      <td>135.101</td>\n",
       "    </tr>\n",
       "    <tr>\n",
       "      <th>2022-01-20</th>\n",
       "      <td>154.225</td>\n",
       "      <td>137.140</td>\n",
       "      <td>107.649</td>\n",
       "      <td>...</td>\n",
       "      <td>158.085</td>\n",
       "      <td>125.222</td>\n",
       "      <td>136.921</td>\n",
       "    </tr>\n",
       "    <tr>\n",
       "      <th>2022-01-21</th>\n",
       "      <td>151.529</td>\n",
       "      <td>137.743</td>\n",
       "      <td>107.535</td>\n",
       "      <td>...</td>\n",
       "      <td>158.849</td>\n",
       "      <td>125.443</td>\n",
       "      <td>132.356</td>\n",
       "    </tr>\n",
       "    <tr>\n",
       "      <th>2022-01-22</th>\n",
       "      <td>152.998</td>\n",
       "      <td>141.417</td>\n",
       "      <td>107.233</td>\n",
       "      <td>...</td>\n",
       "      <td>161.817</td>\n",
       "      <td>127.100</td>\n",
       "      <td>129.263</td>\n",
       "    </tr>\n",
       "    <tr>\n",
       "      <th>2022-01-23</th>\n",
       "      <td>152.485</td>\n",
       "      <td>146.359</td>\n",
       "      <td>107.384</td>\n",
       "      <td>...</td>\n",
       "      <td>161.233</td>\n",
       "      <td>127.992</td>\n",
       "      <td>133.335</td>\n",
       "    </tr>\n",
       "  </tbody>\n",
       "</table>\n",
       "<p>69 rows × 100000 columns</p>\n",
       "</div>"
      ],
      "text/plain": [
       "              0        1        2      ...    99997    99998    99999\n",
       "2021-11-16  153.973  150.233  153.749  ...  148.827  152.062  148.761\n",
       "2021-11-17  154.767  151.719  146.260  ...  147.738  150.536  149.072\n",
       "2021-11-18  157.714  148.913  142.909  ...  145.461  150.325  149.703\n",
       "2021-11-19  161.445  149.797  140.593  ...  145.369  148.745  150.188\n",
       "2021-11-20  167.676  150.889  139.683  ...  146.704  148.350  147.633\n",
       "...             ...      ...      ...  ...      ...      ...      ...\n",
       "2022-01-19  151.669  138.373  111.242  ...  157.444  125.007  135.101\n",
       "2022-01-20  154.225  137.140  107.649  ...  158.085  125.222  136.921\n",
       "2022-01-21  151.529  137.743  107.535  ...  158.849  125.443  132.356\n",
       "2022-01-22  152.998  141.417  107.233  ...  161.817  127.100  129.263\n",
       "2022-01-23  152.485  146.359  107.384  ...  161.233  127.992  133.335\n",
       "\n",
       "[69 rows x 100000 columns]"
      ]
     },
     "execution_count": 51,
     "metadata": {},
     "output_type": "execute_result"
    }
   ],
   "source": [
    "from datetime import date\n",
    "Hoy = date.today()\n",
    "K = 150  # strike price\n",
    "nscen = 100000\n",
    "dates = pd.date_range(start= Hoy, periods = ndays)\n",
    "ndays = len(dates)\n",
    "S0 = closes_aapl.iloc[-1,0]  # Condición inicial del precio a simular\n",
    "\n",
    "sim_ret = pd.DataFrame(sigma*np.random.randn(ndays,nscen)+r,index=dates)\n",
    "sim_closes = S0*np.exp(sim_ret.cumsum())\n",
    "#strike = pd.DataFrame({'Strike':K*np.ones(ndays)}, index=dates)\n",
    "#simul = pd.concat([closes_aapl.T,strike.T,sim_closes.T]).T\n",
    "#simul.plot(figsize=(8,6),legend=False);\n",
    "sim_closes"
   ]
  },
  {
   "cell_type": "code",
   "execution_count": 53,
   "metadata": {},
   "outputs": [
    {
     "data": {
      "text/html": [
       "<div>\n",
       "<style scoped>\n",
       "    .dataframe tbody tr th:only-of-type {\n",
       "        vertical-align: middle;\n",
       "    }\n",
       "\n",
       "    .dataframe tbody tr th {\n",
       "        vertical-align: top;\n",
       "    }\n",
       "\n",
       "    .dataframe thead th {\n",
       "        text-align: right;\n",
       "    }\n",
       "</style>\n",
       "<table border=\"1\" class=\"dataframe\">\n",
       "  <thead>\n",
       "    <tr style=\"text-align: right;\">\n",
       "      <th></th>\n",
       "      <th>0</th>\n",
       "      <th>1</th>\n",
       "      <th>2</th>\n",
       "      <th>...</th>\n",
       "      <th>99997</th>\n",
       "      <th>99998</th>\n",
       "      <th>99999</th>\n",
       "    </tr>\n",
       "  </thead>\n",
       "  <tbody>\n",
       "    <tr>\n",
       "      <th>2021-11-16</th>\n",
       "      <td>151.000</td>\n",
       "      <td>151.000</td>\n",
       "      <td>151.000</td>\n",
       "      <td>...</td>\n",
       "      <td>151.000</td>\n",
       "      <td>151.000</td>\n",
       "      <td>151.000</td>\n",
       "    </tr>\n",
       "    <tr>\n",
       "      <th>2021-11-17</th>\n",
       "      <td>154.767</td>\n",
       "      <td>151.719</td>\n",
       "      <td>146.260</td>\n",
       "      <td>...</td>\n",
       "      <td>147.738</td>\n",
       "      <td>150.536</td>\n",
       "      <td>149.072</td>\n",
       "    </tr>\n",
       "    <tr>\n",
       "      <th>2021-11-18</th>\n",
       "      <td>157.714</td>\n",
       "      <td>148.913</td>\n",
       "      <td>142.909</td>\n",
       "      <td>...</td>\n",
       "      <td>145.461</td>\n",
       "      <td>150.325</td>\n",
       "      <td>149.703</td>\n",
       "    </tr>\n",
       "    <tr>\n",
       "      <th>2021-11-19</th>\n",
       "      <td>161.445</td>\n",
       "      <td>149.797</td>\n",
       "      <td>140.593</td>\n",
       "      <td>...</td>\n",
       "      <td>145.369</td>\n",
       "      <td>148.745</td>\n",
       "      <td>150.188</td>\n",
       "    </tr>\n",
       "    <tr>\n",
       "      <th>2021-11-20</th>\n",
       "      <td>167.676</td>\n",
       "      <td>150.889</td>\n",
       "      <td>139.683</td>\n",
       "      <td>...</td>\n",
       "      <td>146.704</td>\n",
       "      <td>148.350</td>\n",
       "      <td>147.633</td>\n",
       "    </tr>\n",
       "    <tr>\n",
       "      <th>...</th>\n",
       "      <td>...</td>\n",
       "      <td>...</td>\n",
       "      <td>...</td>\n",
       "      <td>...</td>\n",
       "      <td>...</td>\n",
       "      <td>...</td>\n",
       "      <td>...</td>\n",
       "    </tr>\n",
       "    <tr>\n",
       "      <th>2022-01-19</th>\n",
       "      <td>151.669</td>\n",
       "      <td>138.373</td>\n",
       "      <td>111.242</td>\n",
       "      <td>...</td>\n",
       "      <td>157.444</td>\n",
       "      <td>125.007</td>\n",
       "      <td>135.101</td>\n",
       "    </tr>\n",
       "    <tr>\n",
       "      <th>2022-01-20</th>\n",
       "      <td>154.225</td>\n",
       "      <td>137.140</td>\n",
       "      <td>107.649</td>\n",
       "      <td>...</td>\n",
       "      <td>158.085</td>\n",
       "      <td>125.222</td>\n",
       "      <td>136.921</td>\n",
       "    </tr>\n",
       "    <tr>\n",
       "      <th>2022-01-21</th>\n",
       "      <td>151.529</td>\n",
       "      <td>137.743</td>\n",
       "      <td>107.535</td>\n",
       "      <td>...</td>\n",
       "      <td>158.849</td>\n",
       "      <td>125.443</td>\n",
       "      <td>132.356</td>\n",
       "    </tr>\n",
       "    <tr>\n",
       "      <th>2022-01-22</th>\n",
       "      <td>152.998</td>\n",
       "      <td>141.417</td>\n",
       "      <td>107.233</td>\n",
       "      <td>...</td>\n",
       "      <td>161.817</td>\n",
       "      <td>127.100</td>\n",
       "      <td>129.263</td>\n",
       "    </tr>\n",
       "    <tr>\n",
       "      <th>2022-01-23</th>\n",
       "      <td>152.485</td>\n",
       "      <td>146.359</td>\n",
       "      <td>107.384</td>\n",
       "      <td>...</td>\n",
       "      <td>161.233</td>\n",
       "      <td>127.992</td>\n",
       "      <td>133.335</td>\n",
       "    </tr>\n",
       "  </tbody>\n",
       "</table>\n",
       "<p>69 rows × 100000 columns</p>\n",
       "</div>"
      ],
      "text/plain": [
       "              0        1        2      ...    99997    99998    99999\n",
       "2021-11-16  151.000  151.000  151.000  ...  151.000  151.000  151.000\n",
       "2021-11-17  154.767  151.719  146.260  ...  147.738  150.536  149.072\n",
       "2021-11-18  157.714  148.913  142.909  ...  145.461  150.325  149.703\n",
       "2021-11-19  161.445  149.797  140.593  ...  145.369  148.745  150.188\n",
       "2021-11-20  167.676  150.889  139.683  ...  146.704  148.350  147.633\n",
       "...             ...      ...      ...  ...      ...      ...      ...\n",
       "2022-01-19  151.669  138.373  111.242  ...  157.444  125.007  135.101\n",
       "2022-01-20  154.225  137.140  107.649  ...  158.085  125.222  136.921\n",
       "2022-01-21  151.529  137.743  107.535  ...  158.849  125.443  132.356\n",
       "2022-01-22  152.998  141.417  107.233  ...  161.817  127.100  129.263\n",
       "2022-01-23  152.485  146.359  107.384  ...  161.233  127.992  133.335\n",
       "\n",
       "[69 rows x 100000 columns]"
      ]
     },
     "execution_count": 53,
     "metadata": {},
     "output_type": "execute_result"
    }
   ],
   "source": [
    "sim_closes.iloc[0, :] = closes_aapl.iloc[-1]\n",
    "sim_closes"
   ]
  },
  {
   "cell_type": "code",
   "execution_count": 54,
   "metadata": {},
   "outputs": [
    {
     "data": {
      "image/png": "[encoded data removed]",
      "text/plain": [
       "<Figure size 432x288 with 1 Axes>"
      ]
     },
     "metadata": {},
     "output_type": "display_data"
    }
   ],
   "source": [
    "strike = 150\n",
    "call = pd.DataFrame({'Prima':np.exp(-r*ndays) \\\n",
    "              *np.fmax(sim_closes-strike, 0).mean(axis=1)}, index=dates)\n",
    "call.plot();\n"
   ]
  },
  {
   "cell_type": "markdown",
   "metadata": {},
   "source": [
    "La valuación de la opción es:"
   ]
  },
  {
   "cell_type": "code",
   "execution_count": 55,
   "metadata": {},
   "outputs": [
    {
     "data": {
      "text/plain": [
       "Prima    11.165\n",
       "Name: 2022-01-23 00:00:00, dtype: float64"
      ]
     },
     "execution_count": 55,
     "metadata": {},
     "output_type": "execute_result"
    }
   ],
   "source": [
    "call.iloc[-1]"
   ]
  },
  {
   "cell_type": "markdown",
   "metadata": {},
   "source": [
    "Intervalo de confianza del 99%"
   ]
  },
  {
   "cell_type": "code",
   "execution_count": 57,
   "metadata": {
    "scrolled": true
   },
   "outputs": [
    {
     "name": "stdout",
     "output_type": "stream",
     "text": [
      "(10.96562706305831, 11.365156007986574)\n",
      "(10.965630876044907, 11.365152194999977)\n"
     ]
    }
   ],
   "source": [
    "confianza = 0.99\n",
    "sigma_est = sim_closes.iloc[-1].sem()\n",
    "mean_est = call.iloc[-1].Prima\n",
    "i1 = st.t.interval(confianza,nscen-1, loc=mean_est, scale=sigma_est)\n",
    "i2 = st.norm.interval(confianza, loc=mean_est, scale=sigma_est)\n",
    "print(i1)\n",
    "print(i2)\n"
   ]
  },
  {
   "cell_type": "markdown",
   "metadata": {},
   "source": [
    "## Precios simulados usando técnicas de reducción de varianza"
   ]
  },
  {
   "cell_type": "code",
   "execution_count": 58,
   "metadata": {},
   "outputs": [
    {
     "data": {
      "image/png": "[encoded data removed]",
      "text/plain": [
       "<Figure size 432x288 with 1 Axes>"
      ]
     },
     "metadata": {},
     "output_type": "display_data"
    }
   ],
   "source": [
    "# Usando muestreo estratificado----> #estratros = nscen\n",
    "U = (np.arange(0,nscen)+np.random.rand(ndays,nscen))/nscen\n",
    "Z = st.norm.ppf(U)\n",
    "\n",
    "sim_ret2 = pd.DataFrame(sigma*Z+r,index=dates)\n",
    "sim_closes2 = S0*np.exp(sim_ret.cumsum())\n",
    "\n",
    "# Función de pago\n",
    "strike = pd.DataFrame(K*np.ones([ndays,nscen]), index=dates)\n",
    "call = pd.DataFrame({'Prima':np.exp(-r*ndays) \\\n",
    "              *np.fmax(sim_closes2-strike,np.zeros([ndays,nscen])).T.mean()}, index=dates)\n",
    "call.plot();"
   ]
  },
  {
   "cell_type": "markdown",
   "metadata": {},
   "source": [
    "La valuación de la opción es:"
   ]
  },
  {
   "cell_type": "code",
   "execution_count": 59,
   "metadata": {},
   "outputs": [
    {
     "data": {
      "text/plain": [
       "Prima    11.165\n",
       "Name: 2022-01-23 00:00:00, dtype: float64"
      ]
     },
     "execution_count": 59,
     "metadata": {},
     "output_type": "execute_result"
    }
   ],
   "source": [
    "call.iloc[-1]"
   ]
  },
  {
   "cell_type": "markdown",
   "metadata": {},
   "source": [
    "Intervalo de confianza del 99%"
   ]
  },
  {
   "cell_type": "code",
   "execution_count": null,
   "metadata": {
    "scrolled": true
   },
   "outputs": [],
   "source": [
    "confianza = 0.99\n",
    "sigma_est = sim_closes2.iloc[-1].sem()\n",
    "mean_est = call.iloc[-1].Prima\n",
    "i1 = st.t.interval(confianza,nscen-1, loc=mean_est, scale=sigma_est)\n",
    "i2 = st.norm.interval(confianza, loc=mean_est, scale=sigma_est)\n",
    "print(i1)\n",
    "print(i1)\n"
   ]
  },
  {
   "cell_type": "markdown",
   "metadata": {},
   "source": [
    "### Análisis de la distribución de los rendimientos"
   ]
  },
  {
   "cell_type": "markdown",
   "metadata": {},
   "source": [
    "### Ajustando norm"
   ]
  },
  {
   "cell_type": "code",
   "execution_count": 60,
   "metadata": {},
   "outputs": [
    {
     "data": {
      "image/png": "[encoded data removed]",
      "text/plain": [
       "<Figure size 432x288 with 1 Axes>"
      ]
     },
     "metadata": {},
     "output_type": "display_data"
    }
   ],
   "source": [
    "ren = calc_daily_ret(closes_aapl) # rendimientos \n",
    "y,x,des = plt.hist(ren['AAPL'],bins=50,density=True,label='Histograma rendimientos')\n",
    "\n",
    "mu_fit,sd_fit = st.norm.fit(ren) # Se ajustan los parámetros de una normal\n",
    "# Valores máximo y mínimo de los rendiemientos a generar\n",
    "ren_max = max(x);ren_min = min(x)\n",
    "# Vector de rendimientos generados\n",
    "ren_gen = np.arange(ren_min,ren_max,0.001)\n",
    "# Generación de la normal ajustado con los parámetros encontrados\n",
    "curve_fit = st.norm.pdf(ren_gen,loc=mu_fit,scale=sd_fit)\n",
    "plt.plot(ren_gen,curve_fit,label='Distribución ajustada')\n",
    "plt.legend()\n",
    "plt.show()\n"
   ]
  },
  {
   "cell_type": "markdown",
   "metadata": {},
   "source": [
    "### Ajustando t"
   ]
  },
  {
   "cell_type": "code",
   "execution_count": 62,
   "metadata": {},
   "outputs": [
    {
     "data": {
      "image/png": "[encoded data removed]",
      "text/plain": [
       "<Figure size 432x288 with 1 Axes>"
      ]
     },
     "metadata": {},
     "output_type": "display_data"
    }
   ],
   "source": [
    "ren = calc_daily_ret(closes_aapl) # rendimientos \n",
    "y,x,des = plt.hist(ren['AAPL'],bins=50,density=True,label='Histograma rendimientos')\n",
    "\n",
    "dof,mu_fit,sd_fit = st.t.fit(ren.values) # Se ajustan los parámetros de una normal\n",
    "# Valores máximo y mínimo de los rendiemientos a generar\n",
    "# ren_max = max(x);ren_min = min(x)\n",
    "# Vector de rendimientos generados\n",
    "ren_gen = np.arange(ren_min,ren_max,0.001)\n",
    "# Generación de la normal ajustado con los parámetros encontrados\n",
    "curve_fit = st.t.pdf(ren_gen, df=dof,loc=mu_fit,scale=sd_fit)\n",
    "plt.plot(ren_gen,curve_fit,label='Distribución ajustada')\n",
    "plt.legend()\n",
    "plt.show()"
   ]
  },
  {
   "cell_type": "code",
   "execution_count": 65,
   "metadata": {},
   "outputs": [
    {
     "data": {
      "image/png": "[encoded data removed]",
      "text/plain": [
       "<Figure size 432x288 with 1 Axes>"
      ]
     },
     "metadata": {},
     "output_type": "display_data"
    }
   ],
   "source": [
    "st.probplot(ren['AAPL'],sparams= dof, dist='t', plot=plt);"
   ]
  },
  {
   "cell_type": "markdown",
   "metadata": {},
   "source": [
    "## 3. Valuación usando simulación: uso del histograma de rendimientos\n",
    "\n",
    "Todo el análisis anterior se mantiene. Solo cambia la forma de generar los números aleatorios para la simulación montecarlo.\n",
    "\n",
    "Ahora, generemos un histograma de los rendimientos diarios para generar valores aleatorios de los rendimientos simulados."
   ]
  },
  {
   "cell_type": "markdown",
   "metadata": {},
   "source": [
    "- Primero, cantidad de días y número de escenarios de simulación"
   ]
  },
  {
   "cell_type": "code",
   "execution_count": null,
   "metadata": {},
   "outputs": [],
   "source": [
    "ndays = 109 \n",
    "nscen = 10"
   ]
  },
  {
   "cell_type": "markdown",
   "metadata": {},
   "source": [
    "- Del histograma anterior, ya conocemos las probabilidades de ocurrencia, lo que se llamó como variable `y`"
   ]
  },
  {
   "cell_type": "code",
   "execution_count": null,
   "metadata": {},
   "outputs": [],
   "source": [
    "prob = y/np.sum(y)\n",
    "values = x[1:]"
   ]
  },
  {
   "cell_type": "markdown",
   "metadata": {},
   "source": [
    "- Con esto, generamos los números aleatorios correspondientes a los rendimientos (tantos como días por número de escenarios)."
   ]
  },
  {
   "cell_type": "code",
   "execution_count": null,
   "metadata": {},
   "outputs": [],
   "source": [
    "ret = np.random.choice(values, ndays*nscen, p=prob)\n",
    "dates = pd.date_range(start=Hoy,periods=ndays)\n",
    "sim_ret_hist = pd.DataFrame(ret.reshape((ndays,nscen)),index=dates)\n",
    "sim_ret_hist"
   ]
  },
  {
   "cell_type": "code",
   "execution_count": null,
   "metadata": {
    "scrolled": false
   },
   "outputs": [],
   "source": [
    "sim_closes_hist = (closes_aapl.iloc[-1,0])*np.exp(sim_ret_hist.cumsum())\n",
    "sim_closes_hist"
   ]
  },
  {
   "cell_type": "code",
   "execution_count": null,
   "metadata": {},
   "outputs": [],
   "source": [
    "sim_closes_hist.plot(figsize=(8,6),legend=False);"
   ]
  },
  {
   "cell_type": "code",
   "execution_count": null,
   "metadata": {},
   "outputs": [],
   "source": [
    "pd.concat([closes_aapl,sim_closes_hist]).plot(figsize=(8,6),legend=False);\n",
    "plt.title('Simulación usando el histograma de los rendimientos')"
   ]
  },
  {
   "cell_type": "code",
   "execution_count": null,
   "metadata": {},
   "outputs": [],
   "source": [
    "K=240\n",
    "ndays = 109\n",
    "nscen = 10000\n",
    "freq, values = np.histogram(ret_aapl+r-mu, bins=2000)\n",
    "prob = freq/np.sum(freq)\n",
    "ret=np.random.choice(values[1:],ndays*nscen,p=prob)\n",
    "dates=pd.date_range('2018-10-29',periods=ndays)\n",
    "sim_ret_hist = pd.DataFrame(ret.reshape((ndays,nscen)),index=dates)\n",
    "sim_closes_hist = (closes_aapl.iloc[-1,0])*np.exp(sim_ret_hist.cumsum())"
   ]
  },
  {
   "cell_type": "code",
   "execution_count": null,
   "metadata": {},
   "outputs": [],
   "source": [
    "strike = pd.DataFrame(K*np.ones(ndays*nscen).reshape((ndays,nscen)), index=dates)\n",
    "call_hist = pd.DataFrame({'Prima':np.exp(-r*ndays)*np.fmax(sim_closes_hist-strike,np.zeros(ndays*nscen).reshape((ndays,nscen))).T.mean()}, index=dates)\n",
    "call_hist.plot();"
   ]
  },
  {
   "cell_type": "code",
   "execution_count": null,
   "metadata": {
    "scrolled": true
   },
   "outputs": [],
   "source": [
    "call_hist.iloc[-1]"
   ]
  },
  {
   "cell_type": "code",
   "execution_count": null,
   "metadata": {},
   "outputs": [],
   "source": [
    "opcion_valuar['JSON']"
   ]
  },
  {
   "cell_type": "markdown",
   "metadata": {},
   "source": [
    "Intervalo de confianza del 95%"
   ]
  },
  {
   "cell_type": "code",
   "execution_count": null,
   "metadata": {
    "scrolled": true
   },
   "outputs": [],
   "source": [
    "confianza = 0.95\n",
    "sigma_est = sim_closes_hist.iloc[-1].sem()\n",
    "mean_est = call_hist.iloc[-1].Prima\n",
    "i1 = st.t.interval(confianza,nscen-1, loc=mean_est, scale=sigma_est)\n",
    "i2 = st.norm.interval(confianza, loc=mean_est, scale=sigma_est)\n",
    "print(i1)\n",
    "print(i1)\n"
   ]
  },
  {
   "cell_type": "markdown",
   "metadata": {},
   "source": [
    "# <font color = 'red'> Tarea: </font>\n",
    "\n",
    "Replicar el procedimiento anterior para valoración de opciones 'call', pero en este caso para opciones tipo 'put' y además deben de comparar con los resultados teoricos del método de valuación de Black-Scholes (ecuación del principio de clase)"
   ]
  },
  {
   "cell_type": "markdown",
   "metadata": {},
   "source": [
    "<script>\n",
    "  $(document).ready(function(){\n",
    "    $('div.prompt').hide();\n",
    "    $('div.back-to-top').hide();\n",
    "    $('nav#menubar').hide();\n",
    "    $('.breadcrumb').hide();\n",
    "    $('.hidden-print').hide();\n",
    "  });\n",
    "</script>\n",
    "\n",
    "<footer id=\"attribution\" style=\"float:right; color:#808080; background:#fff;\">\n",
    "Created with Jupyter by Esteban Jiménez Rodríguez and modified by Oscar Jaramillo Z.\n",
    "</footer>"
   ]
  }
 ],
 "metadata": {
  "kernelspec": {
   "display_name": "Python 3",
   "language": "python",
   "name": "python3"
  },
  "language_info": {
   "codemirror_mode": {
    "name": "ipython",
    "version": 3
   },
   "file_extension": ".py",
   "mimetype": "text/x-python",
   "name": "python",
   "nbconvert_exporter": "python",
   "pygments_lexer": "ipython3",
   "version": "3.8.8"
  }
 },
 "nbformat": 4,
 "nbformat_minor": 2
}
